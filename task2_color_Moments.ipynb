{
 "cells": [
  {
   "cell_type": "code",
   "execution_count": 2,
   "id": "79a0b330",
   "metadata": {},
   "outputs": [
    {
     "name": "stdout",
     "output_type": "stream",
     "text": [
      "Dimensione del vettore: (900,)\n"
     ]
    }
   ],
   "source": [
    "import import_ipynb\n",
    "import task_1_Color_Moments \n",
    "import pandas as p \n",
    "import os"
   ]
  },
  {
   "cell_type": "code",
   "execution_count": null,
   "id": "14acc90c",
   "metadata": {},
   "outputs": [
    {
     "name": "stderr",
     "output_type": "stream",
     "text": [
      "<string>:23: RuntimeWarning: Precision loss occurred in moment calculation due to catastrophic cancellation. This occurs when the data are nearly identical. Results may be unreliable.\n"
     ]
    },
    {
     "ename": "KeyboardInterrupt",
     "evalue": "",
     "output_type": "error",
     "traceback": [
      "\u001b[31m---------------------------------------------------------------------------\u001b[39m",
      "\u001b[31mKeyboardInterrupt\u001b[39m                         Traceback (most recent call last)",
      "\u001b[36mCell\u001b[39m\u001b[36m \u001b[39m\u001b[32mIn[16]\u001b[39m\u001b[32m, line 14\u001b[39m\n\u001b[32m     11\u001b[39m path_file = os.path.join(percorso_classe, nome_file)\n\u001b[32m     13\u001b[39m \u001b[38;5;28;01mtry\u001b[39;00m:\n\u001b[32m---> \u001b[39m\u001b[32m14\u001b[39m   feature = \u001b[43mtask_1_Color_Moments\u001b[49m\u001b[43m.\u001b[49m\u001b[43mresize_img\u001b[49m\u001b[43m(\u001b[49m\u001b[43mpath_file\u001b[49m\u001b[43m)\u001b[49m\n\u001b[32m     15\u001b[39m \u001b[38;5;28;01mexcept\u001b[39;00m \u001b[38;5;167;01mException\u001b[39;00m \u001b[38;5;28;01mas\u001b[39;00m e:\n\u001b[32m     16\u001b[39m   \u001b[38;5;28mprint\u001b[39m(\u001b[33mf\u001b[39m\u001b[33m\"\u001b[39m\u001b[33mErrore su \u001b[39m\u001b[38;5;132;01m{\u001b[39;00mpath_file\u001b[38;5;132;01m}\u001b[39;00m\u001b[33m: \u001b[39m\u001b[38;5;132;01m{\u001b[39;00me\u001b[38;5;132;01m}\u001b[39;00m\u001b[33m\"\u001b[39m)\n",
      "\u001b[36mFile \u001b[39m\u001b[32m<string>:23\u001b[39m, in \u001b[36mresize_img\u001b[39m\u001b[34m(file_path)\u001b[39m\n",
      "\u001b[36mFile \u001b[39m\u001b[32m/opt/venv/lib/python3.11/site-packages/scipy/stats/_axis_nan_policy.py:535\u001b[39m, in \u001b[36m_axis_nan_policy_factory.<locals>.axis_nan_policy_decorator.<locals>.axis_nan_policy_wrapper\u001b[39m\u001b[34m(***failed resolving arguments***)\u001b[39m\n\u001b[32m    532\u001b[39m     samples = [np.asarray(sample.ravel()) \u001b[38;5;28;01mfor\u001b[39;00m sample \u001b[38;5;129;01min\u001b[39;00m samples]\n\u001b[32m    533\u001b[39m \u001b[38;5;28;01melse\u001b[39;00m:\n\u001b[32m    534\u001b[39m     \u001b[38;5;66;03m# don't ignore any axes when broadcasting if paired\u001b[39;00m\n\u001b[32m--> \u001b[39m\u001b[32m535\u001b[39m     samples = \u001b[43m_broadcast_arrays\u001b[49m\u001b[43m(\u001b[49m\u001b[43msamples\u001b[49m\u001b[43m,\u001b[49m\u001b[43m \u001b[49m\u001b[43maxis\u001b[49m\u001b[43m=\u001b[49m\u001b[43maxis\u001b[49m\u001b[43m \u001b[49m\u001b[38;5;28;43;01mif\u001b[39;49;00m\u001b[43m \u001b[49m\u001b[38;5;129;43;01mnot\u001b[39;49;00m\u001b[43m \u001b[49m\u001b[43mpaired\u001b[49m\u001b[43m \u001b[49m\u001b[38;5;28;43;01melse\u001b[39;49;00m\u001b[43m \u001b[49m\u001b[38;5;28;43;01mNone\u001b[39;49;00m\u001b[43m)\u001b[49m\n\u001b[32m    536\u001b[39m     axis = np.atleast_1d(axis)\n\u001b[32m    537\u001b[39m     n_axes = \u001b[38;5;28mlen\u001b[39m(axis)\n",
      "\u001b[36mFile \u001b[39m\u001b[32m/opt/venv/lib/python3.11/site-packages/scipy/stats/_axis_nan_policy.py:50\u001b[39m, in \u001b[36m_broadcast_arrays\u001b[39m\u001b[34m(arrays, axis, xp)\u001b[39m\n\u001b[32m     48\u001b[39m arrays = [xp.asarray(arr) \u001b[38;5;28;01mfor\u001b[39;00m arr \u001b[38;5;129;01min\u001b[39;00m arrays]\n\u001b[32m     49\u001b[39m shapes = [arr.shape \u001b[38;5;28;01mfor\u001b[39;00m arr \u001b[38;5;129;01min\u001b[39;00m arrays]\n\u001b[32m---> \u001b[39m\u001b[32m50\u001b[39m new_shapes = \u001b[43m_broadcast_shapes\u001b[49m\u001b[43m(\u001b[49m\u001b[43mshapes\u001b[49m\u001b[43m,\u001b[49m\u001b[43m \u001b[49m\u001b[43maxis\u001b[49m\u001b[43m)\u001b[49m\n\u001b[32m     51\u001b[39m \u001b[38;5;28;01mif\u001b[39;00m axis \u001b[38;5;129;01mis\u001b[39;00m \u001b[38;5;28;01mNone\u001b[39;00m:\n\u001b[32m     52\u001b[39m     new_shapes = [new_shapes]*\u001b[38;5;28mlen\u001b[39m(arrays)\n",
      "\u001b[36mFile \u001b[39m\u001b[32m/opt/venv/lib/python3.11/site-packages/scipy/stats/_axis_nan_policy.py:81\u001b[39m, in \u001b[36m_broadcast_shapes\u001b[39m\u001b[34m(shapes, axis)\u001b[39m\n\u001b[32m     79\u001b[39m new_shapes = np.ones((\u001b[38;5;28mlen\u001b[39m(shapes), n_dims), dtype=\u001b[38;5;28mint\u001b[39m)\n\u001b[32m     80\u001b[39m \u001b[38;5;28;01mfor\u001b[39;00m row, shape \u001b[38;5;129;01min\u001b[39;00m \u001b[38;5;28mzip\u001b[39m(new_shapes, shapes):\n\u001b[32m---> \u001b[39m\u001b[32m81\u001b[39m     \u001b[43mrow\u001b[49m\u001b[43m[\u001b[49m\u001b[38;5;28;43mlen\u001b[39;49m\u001b[43m(\u001b[49m\u001b[43mrow\u001b[49m\u001b[43m)\u001b[49m\u001b[43m-\u001b[49m\u001b[38;5;28;43mlen\u001b[39;49m\u001b[43m(\u001b[49m\u001b[43mshape\u001b[49m\u001b[43m)\u001b[49m\u001b[43m:\u001b[49m\u001b[43m]\u001b[49m = shape  \u001b[38;5;66;03m# can't use negative indices (-0:)\u001b[39;00m\n\u001b[32m     83\u001b[39m \u001b[38;5;66;03m# Remove the shape elements of the axes to be ignored, but remember them.\u001b[39;00m\n\u001b[32m     84\u001b[39m \u001b[38;5;28;01mif\u001b[39;00m axis \u001b[38;5;129;01mis\u001b[39;00m \u001b[38;5;129;01mnot\u001b[39;00m \u001b[38;5;28;01mNone\u001b[39;00m:\n",
      "\u001b[31mKeyboardInterrupt\u001b[39m: "
     ]
    }
   ],
   "source": [
    "cartella_img1 = \"/workspaces/dbm25/data/Part1/Part1\"\n",
    "\n",
    "righe = []\n",
    "\n",
    "for classe in os.listdir(cartella_img1):\n",
    "  percorso_classe = os.path.join(cartella_img1, classe)\n",
    "  \n",
    "  if os.path.isdir(percorso_classe):\n",
    "    for nome_file in os.listdir(percorso_classe):\n",
    "      if nome_file.lower().endswith(('.jpg', '.jpeg', '.png')):\n",
    "        path_file = os.path.join(percorso_classe, nome_file)\n",
    "\n",
    "        try:\n",
    "          feature = task_1_Color_Moments.resize_img(path_file)\n",
    "        except Exception as e:\n",
    "          print(f\"Errore su {path_file}: {e}\")\n",
    "          feature = None\n",
    "\n",
    "        righe.append({\n",
    "                    \"NOME\": nome_file,\n",
    "                    \"CLASSE\": classe,\n",
    "                    \"FEATURE\": feature.tolist() if feature is not None else \"\"})\n",
    "      \n",
    "df = p.DataFrame(righe)\n",
    "df.to_csv(\"/workspaces/dbm25/data/prova.csv\", index=False)\n"
   ]
  }
 ],
 "metadata": {
  "kernelspec": {
   "display_name": "venv",
   "language": "python",
   "name": "python3"
  },
  "language_info": {
   "codemirror_mode": {
    "name": "ipython",
    "version": 3
   },
   "file_extension": ".py",
   "mimetype": "text/x-python",
   "name": "python",
   "nbconvert_exporter": "python",
   "pygments_lexer": "ipython3",
   "version": "3.11.2"
  }
 },
 "nbformat": 4,
 "nbformat_minor": 5
}
