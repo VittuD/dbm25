{
 "cells": [
  {
   "cell_type": "code",
   "execution_count": 1,
   "id": "22b3180e",
   "metadata": {},
   "outputs": [],
   "source": [
    "import numpy as np\n",
    "from collections import defaultdict\n",
    "import random\n",
    "import torch\n",
    "\n",
    "class LSH:\n",
    "    def __init__(self, L, h, dim):\n",
    "        \"\"\"\n",
    "        Initialize the LSH tool.\n",
    "        :param L: Number of layers\n",
    "        :param h: Number of hashes per layer\n",
    "        :param dim: Dimensionality of the input vectors\n",
    "        \"\"\"\n",
    "        self.L = L\n",
    "        self.h = h\n",
    "        self.dim = dim\n",
    "        self.hash_tables = [defaultdict(list) for _ in range(L)]\n",
    "        self.random_vectors = [np.random.randn(h, dim) for _ in range(L)]\n",
    "        self.offsets = [np.random.uniform(0, 1, h) for _ in range(L)]\n",
    "\n",
    "    def _hash(self, vector, layer):\n",
    "        \"\"\"\n",
    "        Compute the hash for a vector in a specific layer.\n",
    "        :param vector: Input vector\n",
    "        :param layer: Layer index\n",
    "        :return: Hash value\n",
    "        \"\"\"\n",
    "        projections = np.dot(self.random_vectors[layer], vector)\n",
    "        return tuple(((projections + self.offsets[layer]) // 1).astype(int))\n",
    "\n",
    "    def index(self, vectors):\n",
    "        \"\"\"\n",
    "        Index a set of vectors.\n",
    "        :param vectors: List of vectors to index\n",
    "        \"\"\"\n",
    "        for idx, vector in enumerate(vectors):\n",
    "            for layer in range(self.L):\n",
    "                hash_value = self._hash(vector, layer)\n",
    "                self.hash_tables[layer][hash_value].append(idx)\n",
    "            # print(f\"Indexed vector {idx} with hash values: {[self._hash(vector, layer) for layer in range(self.L)]}\")\n",
    "\n",
    "    def query(self, vector, t):\n",
    "        \"\"\"\n",
    "        Query the LSH index for the t most similar vectors.\n",
    "        :param vector: Query vector\n",
    "        :param t: Number of similar vectors to return\n",
    "        :return: List of indices of the t most similar vectors\n",
    "        \"\"\"\n",
    "        candidates = set()\n",
    "        for layer in range(self.L):\n",
    "            hash_value = self._hash(vector, layer)\n",
    "            candidates.update(self.hash_tables[layer].get(hash_value, []))\n",
    "        \n",
    "        # Compute Euclidean distances to all candidates\n",
    "        distances = [(idx, np.linalg.norm(vector - self.vectors[idx])) for idx in candidates]\n",
    "        distances.sort(key=lambda x: x[1])\n",
    "        \n",
    "        return [idx for idx, _ in distances[:t]], len(candidates), len(distances)"
   ]
  },
  {
   "cell_type": "code",
   "execution_count": 2,
   "id": "e14bd43a",
   "metadata": {},
   "outputs": [],
   "source": [
    "# Generate random data\n",
    "# num_vectors = 100\n",
    "# dim = 2\n",
    "# vectors = np.random.rand(num_vectors, dim)\n",
    "\n",
    "# Initialize the LSH instance\n",
    "# L = 2  # Number of layers\n",
    "# h = 1  # Number of hashes per layer\n",
    "# lsh = LSH(L, h, dim)\n",
    "\n",
    "# Index the random vectors\n",
    "# lsh.index(vectors)\n",
    "\n",
    "# Store the vectors in the LSH instance for querying\n",
    "# lsh.vectors = vectors"
   ]
  },
  {
   "cell_type": "code",
   "execution_count": 3,
   "id": "23dd5058",
   "metadata": {},
   "outputs": [],
   "source": [
    "# Visualize the hash tables with pyplot\n",
    "import matplotlib.pyplot as plt\n",
    "def visualize_hash_tables(lsh):\n",
    "    for layer in range(lsh.L):\n",
    "        plt.figure(figsize=(8, 6))\n",
    "        hash_table = lsh.hash_tables[layer]\n",
    "        for hash_value, indices in hash_table.items():\n",
    "            points = np.array([lsh.vectors[idx] for idx in indices])\n",
    "            plt.scatter(points[:, 0], points[:, 1], label=f'Hash: {hash_value}')\n",
    "        \n",
    "        plt.title(f'Layer {layer + 1} Hash Table Visualization')\n",
    "        plt.xlabel('Dimension 1')\n",
    "        plt.ylabel('Dimension 2')\n",
    "        plt.legend()\n",
    "        plt.grid()\n",
    "        plt.show()\n",
    "\n",
    "# Visualize the hash tables\n",
    "# visualize_hash_tables(lsh)"
   ]
  },
  {
   "cell_type": "code",
   "execution_count": 4,
   "id": "ee35cf44",
   "metadata": {},
   "outputs": [],
   "source": [
    "# test_vector = vectors[10] + np.random.rand(dim) * 0.2  # Slightly perturb the test vector\n",
    "\n",
    "# print(f'distance between test vector and original vector: {np.linalg.norm(test_vector - vectors[10])}')\n",
    "\n",
    "# Try to index the test vector\n",
    "# lsh.index([test_vector])"
   ]
  },
  {
   "cell_type": "code",
   "execution_count": 5,
   "id": "e2383d4d",
   "metadata": {},
   "outputs": [],
   "source": [
    "# Query a random vector\n",
    "# query_vector = np.random.rand(dim)\n",
    "# t = 2  # Number of similar vectors to return\n",
    "# results, num_candidates, num_distances = lsh.query(query_vector, t)\n",
    "# Output the results\n",
    "# print(\"Query Vector:\", query_vector)\n",
    "# print(\"Indices of similar vectors:\", results)\n",
    "# print(\"Distances:\", [np.linalg.norm(query_vector - vectors[idx]) for idx in results])"
   ]
  },
  {
   "cell_type": "code",
   "execution_count": 6,
   "id": "cd64a47f",
   "metadata": {},
   "outputs": [],
   "source": [
    "FEATURE_SPACE = 'layer3'\n",
    "FEATURE_FILE = '../data/extracted_features.pt'"
   ]
  },
  {
   "cell_type": "code",
   "execution_count": 7,
   "id": "84cc09ba",
   "metadata": {},
   "outputs": [],
   "source": [
    "# Load extracted features from Part 1\n",
    "features = torch.load(FEATURE_FILE, weights_only=False)\n",
    "\n",
    "selected_features = [elem[FEATURE_SPACE] for elem in features]\n",
    "labels = [elem['class'] for elem in features]"
   ]
  },
  {
   "cell_type": "code",
   "execution_count": 8,
   "id": "8a267fdd",
   "metadata": {},
   "outputs": [
    {
     "name": "stdout",
     "output_type": "stream",
     "text": [
      "Query Vector: [0.4044899  0.99530258 0.79382381 ... 0.6902405  0.87545459 0.81014664]\n",
      "Indices of similar feature vectors: [1397, 1612, 1822, 1143, 1624]\n",
      "Labels of similar feature vectors: ['brain_tumor', 'brain_tumor', 'brain_tumor', 'brain_tumor', 'brain_tumor']\n",
      "Labels of similar feature vectors: ['brain_tumor', 'brain_tumor', 'brain_tumor', 'brain_tumor', 'brain_tumor']\n"
     ]
    },
    {
     "name": "stderr",
     "output_type": "stream",
     "text": [
      "/tmp/ipykernel_873/2059117280.py:28: DeprecationWarning: __array__ implementation doesn't accept a copy keyword, so passing copy=False failed. __array__ must implement 'dtype' and 'copy' keyword arguments.\n",
      "  projections = np.dot(self.random_vectors[layer], vector)\n"
     ]
    }
   ],
   "source": [
    "# Index the features using LSH\n",
    "lsh_f = LSH(L=2, h=1, dim=len(selected_features[0]))\n",
    "lsh_f.index(selected_features)\n",
    "# Store the features in the LSH instance for querying\n",
    "lsh_f.vectors = np.array(selected_features)\n",
    "# Query the LSH index with a random feature vector\n",
    "query_vector = np.random.rand(len(selected_features[0]))\n",
    "results, num_candidates, num_distances = lsh_f.query(query_vector, t=5)\n",
    "# Output the results\n",
    "print(\"Query Vector:\", query_vector)\n",
    "print(\"Indices of similar feature vectors:\", results)\n",
    "print(\"Labels of similar feature vectors:\", [labels[idx] for idx in results])\n",
    "# Output the labels of the similar feature vectors\n",
    "print(\"Labels of similar feature vectors:\", [labels[idx] for idx in results])"
   ]
  }
 ],
 "metadata": {
  "kernelspec": {
   "display_name": "venv",
   "language": "python",
   "name": "python3"
  },
  "language_info": {
   "codemirror_mode": {
    "name": "ipython",
    "version": 3
   },
   "file_extension": ".py",
   "mimetype": "text/x-python",
   "name": "python",
   "nbconvert_exporter": "python",
   "pygments_lexer": "ipython3",
   "version": "3.11.2"
  }
 },
 "nbformat": 4,
 "nbformat_minor": 5
}
