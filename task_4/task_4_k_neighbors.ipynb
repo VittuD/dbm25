{
 "cells": [
  {
   "cell_type": "code",
   "execution_count": 36,
   "id": "5964fd3e",
   "metadata": {},
   "outputs": [],
   "source": [
    "import torch\n",
    "from sklearn.metrics import DistanceMetric\n",
    "from sklearn.metrics.pairwise import cosine_similarity\n",
    "import pandas as pd\n",
    "import numpy as np\n",
    "from scipy.spatial import distance\n",
    "\n",
    "import sys\n",
    "sys.path.append('/workspaces/dbm25/task_1_2')\n",
    "from tabulate import tabulate\n",
    "\n",
    "\n",
    "from extract_features import extract_features\n",
    "\n"
   ]
  },
  {
   "cell_type": "code",
   "execution_count": 37,
   "id": "98164c94",
   "metadata": {},
   "outputs": [],
   "source": [
    "def top_k_distance_search(image_path, k, feature_model, measure):\n",
    "    \"\"\"\n",
    "    Finds the k most similar images to an input image based on a feature model and distance metric.\n",
    "    \n",
    "    Parameters:\n",
    "    ----------\n",
    "    image_path : str\n",
    "        Path to the input image.\n",
    "    k : int\n",
    "        Number of similar images to return.\n",
    "    feature_model : str\n",
    "        Feature extraction model identifier to use.\n",
    "    measure : str\n",
    "        Distance metric name (compatible with sklearn.metrics.DistanceMetric).\n",
    "    \n",
    "    Returns:\n",
    "    -------\n",
    "    list of dict\n",
    "        List of k dictionaries containing similar image information:\n",
    "        - \"image_name\": image name\n",
    "        - \"file_path\": image path\n",
    "        - \"class\": image class\n",
    "        - \"distance_score\": distance score (lower = more similar)\n",
    "    \"\"\"\n",
    "    \n",
    "    # Load pre-trained ResNet50 model\n",
    "    model = torch.hub.load('pytorch/vision:v0.10.0', 'resnet50', pretrained=True)\n",
    "    \n",
    "    # Extract features from input image\n",
    "    image_query_surrogate = extract_features(image_path, model)\n",
    "\n",
    "    # Load feature space from database\n",
    "    feature_space = torch.load(\"/workspaces/dbm25/data/extracted_features.pt\")\n",
    "    \n",
    "    # Get and reshape (linearize) query image features\n",
    "    image_query_feature = image_query_surrogate[feature_model].reshape(1,-1) \n",
    "    \n",
    "    # Initialize distance metric\n",
    "    dist = DistanceMetric.get_metric(measure)\n",
    "    results = []\n",
    "\n",
    "    # Compare query image against each image in the database\n",
    "    for image_surrogate in feature_space:\n",
    "        image_surrogate_feature = image_surrogate[feature_model].reshape(1,-1)\n",
    "        \n",
    "        # Calculate distance between query image and current database image\n",
    "        distance_score = dist.pairwise(image_query_feature, image_surrogate_feature)[0][0]\n",
    "        image_name = image_surrogate[\"file_path\"].split(\"/\").pop()\n",
    "\n",
    "        new_result = {\n",
    "            \"image_name\": image_name,\n",
    "            \"file_path\": image_surrogate[\"file_path\"],\n",
    "            \"class\": image_surrogate[\"class\"],\n",
    "            \"distance_score\": distance_score\n",
    "        }\n",
    "        \n",
    "        # Maintain a list of only the k most similar images\n",
    "        if len(results) < k:\n",
    "            results.append(new_result)\n",
    "        else:\n",
    "            # Sort by distance (descending - largest distance first)\n",
    "            results.sort(key=lambda element: element[\"distance_score\"], reverse=True)\n",
    "            \n",
    "            # Replace least similar image if current one is more similar\n",
    "            if results[0][\"distance_score\"] > new_result[\"distance_score\"]:\n",
    "                results.pop(0)\n",
    "                results.append(new_result)\n",
    "\n",
    "    return results"
   ]
  },
  {
   "cell_type": "code",
   "execution_count": 38,
   "id": "8d31421b",
   "metadata": {},
   "outputs": [],
   "source": [
    "def get_k_matching_label(image_path, k, k_neighbors, feature_model, measure):\n",
    "   vote_results = {\n",
    "      \"brain_glioma\" : 0,\n",
    "      \"brain_menin\" : 0,\n",
    "      \"brain_tumor\" : 0\n",
    "   }\n",
    "\n",
    "   search_results = top_k_distance_search(image_path=image_path, \n",
    "                                k=k_neighbors, \n",
    "                                feature_model=feature_model,\n",
    "                                measure = measure)\n",
    "   \n",
    "   for result in search_results:\n",
    "      vote_results[result[\"class\"]] += 1\n",
    "\n",
    "   sortedResults = sorted(vote_results.items(), key=lambda x:x[1], reverse=True)\n",
    "\n",
    "\n",
    "   return sortedResults\n"
   ]
  },
  {
   "cell_type": "code",
   "execution_count": 39,
   "id": "fb450da7",
   "metadata": {},
   "outputs": [
    {
     "name": "stderr",
     "output_type": "stream",
     "text": [
      "Using cache found in /root/.cache/torch/hub/pytorch_vision_v0.10.0\n"
     ]
    },
    {
     "name": "stdout",
     "output_type": "stream",
     "text": [
      "Processing /workspaces/dbm25/data/Part2/Part2/brain_menin/brain_menin_1005.jpg\n",
      "[('brain_glioma', 2), ('brain_menin', 2), ('brain_tumor', 1)]\n"
     ]
    }
   ],
   "source": [
    "image_path = \"/workspaces/dbm25/data/Part2/Part2/brain_menin/brain_menin_1005.jpg\"\n",
    "result = get_k_matching_label(image_path=image_path, k=2, k_neighbors=5, feature_model=\"hog\", measure=\"euclidean\")\n",
    "\n",
    "print(result)"
   ]
  }
 ],
 "metadata": {
  "kernelspec": {
   "display_name": "venv",
   "language": "python",
   "name": "python3"
  },
  "language_info": {
   "codemirror_mode": {
    "name": "ipython",
    "version": 3
   },
   "file_extension": ".py",
   "mimetype": "text/x-python",
   "name": "python",
   "nbconvert_exporter": "python",
   "pygments_lexer": "ipython3",
   "version": "3.11.2"
  }
 },
 "nbformat": 4,
 "nbformat_minor": 5
}
