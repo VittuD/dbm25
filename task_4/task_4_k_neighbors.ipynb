{
 "cells": [
  {
   "cell_type": "code",
   "execution_count": 49,
   "id": "5964fd3e",
   "metadata": {},
   "outputs": [],
   "source": [
    "import torch\n",
    "from sklearn.metrics import DistanceMetric\n",
    "from sklearn.metrics.pairwise import cosine_similarity\n",
    "import pandas as pd\n",
    "import numpy as np\n",
    "from scipy.spatial import distance\n",
    "\n",
    "import sys\n",
    "sys.path.append('/workspaces/dbm25/task_1_2')\n",
    "from tabulate import tabulate\n",
    "\n",
    "\n",
    "from extract_features import extract_features\n",
    "\n"
   ]
  },
  {
   "cell_type": "code",
   "execution_count": 50,
   "id": "98164c94",
   "metadata": {},
   "outputs": [],
   "source": [
    "def top_k_distance_search(image_path, k, feature_model, measure):\n",
    "    \"\"\"\n",
    "    Finds the k most similar images to an input image based on a feature model and distance metric.\n",
    "    \n",
    "    Parameters:\n",
    "    ----------\n",
    "    image_path : str\n",
    "        Path to the input image.\n",
    "    k : int\n",
    "        Number of similar images to return.\n",
    "    feature_model : str\n",
    "        Feature extraction model identifier to use.\n",
    "    measure : str\n",
    "        Distance metric name (compatible with sklearn.metrics.DistanceMetric).\n",
    "    \n",
    "    Returns:\n",
    "    -------\n",
    "    list of dict\n",
    "        List of k dictionaries containing similar image information:\n",
    "        - \"image_name\": image name\n",
    "        - \"file_path\": image path\n",
    "        - \"class\": image class\n",
    "        - \"distance_score\": distance score (lower = more similar)\n",
    "    \"\"\"\n",
    "    \n",
    "    # Load pre-trained ResNet50 model\n",
    "    model = torch.hub.load('pytorch/vision:v0.10.0', 'resnet50', pretrained=True)\n",
    "    \n",
    "    # Extract features from input image\n",
    "    image_query_surrogate = extract_features(image_path, model)\n",
    "\n",
    "    # Load feature space from database\n",
    "    feature_space = torch.load(\"/workspaces/dbm25/data/extracted_features.pt\")\n",
    "    \n",
    "    # Get and reshape (linearize) query image features\n",
    "    image_query_feature = image_query_surrogate[feature_model].reshape(1,-1) \n",
    "    \n",
    "    # Initialize distance metric\n",
    "    dist = DistanceMetric.get_metric(measure)\n",
    "    results = []\n",
    "\n",
    "    # Compare query image against each image in the database\n",
    "    for image_surrogate in feature_space:\n",
    "        image_surrogate_feature = image_surrogate[feature_model].reshape(1,-1)\n",
    "        \n",
    "        # Calculate distance between query image and current database image\n",
    "        distance_score = dist.pairwise(image_query_feature, image_surrogate_feature)[0][0]\n",
    "        image_name = image_surrogate[\"file_path\"].split(\"/\").pop()\n",
    "\n",
    "        new_result = {\n",
    "            \"image_name\": image_name,\n",
    "            \"file_path\": image_surrogate[\"file_path\"],\n",
    "            \"class\": image_surrogate[\"class\"],\n",
    "            \"distance_score\": distance_score\n",
    "        }\n",
    "        \n",
    "        # Maintain a list of only the k most similar images\n",
    "        if len(results) < k:\n",
    "            results.append(new_result)\n",
    "        else:\n",
    "            # Sort by distance (descending - largest distance first)\n",
    "            results.sort(key=lambda element: element[\"distance_score\"], reverse=True)\n",
    "            \n",
    "            # Replace least similar image if current one is more similar\n",
    "            if results[0][\"distance_score\"] > new_result[\"distance_score\"]:\n",
    "                results.pop(0)\n",
    "                results.append(new_result)\n",
    "\n",
    "    return results"
   ]
  },
  {
   "cell_type": "code",
   "execution_count": 51,
   "id": "8d31421b",
   "metadata": {},
   "outputs": [],
   "source": [
    "def get_k_matching_label(image_path, k, k_neighbors, feature_model, measure):\n",
    "   \n",
    "   if k > 3:\n",
    "      print(\"K must be less or equal 2!\")\n",
    "      return None\n",
    "\n",
    "   vote_results = {\n",
    "      \"brain_glioma\" : 0,\n",
    "      \"brain_menin\" : 0,\n",
    "      \"brain_tumor\" : 0\n",
    "   }\n",
    "\n",
    "   search_results = top_k_distance_search(image_path=image_path, \n",
    "                                k=k_neighbors, \n",
    "                                feature_model=feature_model,\n",
    "                                measure = measure)\n",
    "   \n",
    "   for result in search_results:\n",
    "      vote_results[result[\"class\"]] += 1\n",
    "\n",
    "   sortedResults = sorted(vote_results.items(), key=lambda x:x[1], reverse=True)\n",
    "\n",
    "\n",
    "   return sortedResults[:k]\n"
   ]
  },
  {
   "cell_type": "code",
   "execution_count": null,
   "id": "fb450da7",
   "metadata": {},
   "outputs": [
    {
     "name": "stderr",
     "output_type": "stream",
     "text": [
      "Using cache found in /root/.cache/torch/hub/pytorch_vision_v0.10.0\n"
     ]
    },
    {
     "name": "stdout",
     "output_type": "stream",
     "text": [
      "Processing /workspaces/dbm25/data/Part2/Part2/brain_tumor/brain_tumor_1002.jpg\n",
      "Failed to load image.\n"
     ]
    },
    {
     "name": "stderr",
     "output_type": "stream",
     "text": [
      "[ WARN:0@694.786] global loadsave.cpp:268 findDecoder imread_('/workspaces/dbm25/data/Part2/Part2/brain_tumor/brain_tumor_1002.jpg'): can't open/read file: check file path/integrity\n"
     ]
    },
    {
     "ename": "TypeError",
     "evalue": "'NoneType' object is not subscriptable",
     "output_type": "error",
     "traceback": [
      "\u001b[31m---------------------------------------------------------------------------\u001b[39m",
      "\u001b[31mTypeError\u001b[39m                                 Traceback (most recent call last)",
      "\u001b[36mCell\u001b[39m\u001b[36m \u001b[39m\u001b[32mIn[52]\u001b[39m\u001b[32m, line 2\u001b[39m\n\u001b[32m      1\u001b[39m image_path = \u001b[33m\"\u001b[39m\u001b[33m/workspaces/dbm25/data/Part2/Part2/brain_tumor/brain_tumor_1002.jpg\u001b[39m\u001b[33m\"\u001b[39m\n\u001b[32m----> \u001b[39m\u001b[32m2\u001b[39m result = \u001b[43mget_k_matching_label\u001b[49m\u001b[43m(\u001b[49m\u001b[43mimage_path\u001b[49m\u001b[43m=\u001b[49m\u001b[43mimage_path\u001b[49m\u001b[43m,\u001b[49m\u001b[43m \u001b[49m\u001b[43mk\u001b[49m\u001b[43m=\u001b[49m\u001b[32;43m2\u001b[39;49m\u001b[43m,\u001b[49m\u001b[43m \u001b[49m\u001b[43mk_neighbors\u001b[49m\u001b[43m=\u001b[49m\u001b[32;43m50\u001b[39;49m\u001b[43m,\u001b[49m\u001b[43m \u001b[49m\u001b[43mfeature_model\u001b[49m\u001b[43m=\u001b[49m\u001b[33;43m\"\u001b[39;49m\u001b[33;43mcm\u001b[39;49m\u001b[33;43m\"\u001b[39;49m\u001b[43m,\u001b[49m\u001b[43m \u001b[49m\u001b[43mmeasure\u001b[49m\u001b[43m=\u001b[49m\u001b[33;43m\"\u001b[39;49m\u001b[33;43mchebyshev\u001b[39;49m\u001b[33;43m\"\u001b[39;49m\u001b[43m)\u001b[49m\n\u001b[32m      4\u001b[39m \u001b[38;5;28mprint\u001b[39m(result)\n",
      "\u001b[36mCell\u001b[39m\u001b[36m \u001b[39m\u001b[32mIn[51]\u001b[39m\u001b[32m, line 13\u001b[39m, in \u001b[36mget_k_matching_label\u001b[39m\u001b[34m(image_path, k, k_neighbors, feature_model, measure)\u001b[39m\n\u001b[32m      5\u001b[39m    \u001b[38;5;28;01mreturn\u001b[39;00m \u001b[38;5;28;01mNone\u001b[39;00m\n\u001b[32m      7\u001b[39m vote_results = {\n\u001b[32m      8\u001b[39m    \u001b[33m\"\u001b[39m\u001b[33mbrain_glioma\u001b[39m\u001b[33m\"\u001b[39m : \u001b[32m0\u001b[39m,\n\u001b[32m      9\u001b[39m    \u001b[33m\"\u001b[39m\u001b[33mbrain_menin\u001b[39m\u001b[33m\"\u001b[39m : \u001b[32m0\u001b[39m,\n\u001b[32m     10\u001b[39m    \u001b[33m\"\u001b[39m\u001b[33mbrain_tumor\u001b[39m\u001b[33m\"\u001b[39m : \u001b[32m0\u001b[39m\n\u001b[32m     11\u001b[39m }\n\u001b[32m---> \u001b[39m\u001b[32m13\u001b[39m search_results = \u001b[43mtop_k_distance_search\u001b[49m\u001b[43m(\u001b[49m\u001b[43mimage_path\u001b[49m\u001b[43m=\u001b[49m\u001b[43mimage_path\u001b[49m\u001b[43m,\u001b[49m\u001b[43m \u001b[49m\n\u001b[32m     14\u001b[39m \u001b[43m                             \u001b[49m\u001b[43mk\u001b[49m\u001b[43m=\u001b[49m\u001b[43mk_neighbors\u001b[49m\u001b[43m,\u001b[49m\u001b[43m \u001b[49m\n\u001b[32m     15\u001b[39m \u001b[43m                             \u001b[49m\u001b[43mfeature_model\u001b[49m\u001b[43m=\u001b[49m\u001b[43mfeature_model\u001b[49m\u001b[43m,\u001b[49m\n\u001b[32m     16\u001b[39m \u001b[43m                             \u001b[49m\u001b[43mmeasure\u001b[49m\u001b[43m \u001b[49m\u001b[43m=\u001b[49m\u001b[43m \u001b[49m\u001b[43mmeasure\u001b[49m\u001b[43m)\u001b[49m\n\u001b[32m     18\u001b[39m \u001b[38;5;28;01mfor\u001b[39;00m result \u001b[38;5;129;01min\u001b[39;00m search_results:\n\u001b[32m     19\u001b[39m    vote_results[result[\u001b[33m\"\u001b[39m\u001b[33mclass\u001b[39m\u001b[33m\"\u001b[39m]] += \u001b[32m1\u001b[39m\n",
      "\u001b[36mCell\u001b[39m\u001b[36m \u001b[39m\u001b[32mIn[50]\u001b[39m\u001b[32m, line 36\u001b[39m, in \u001b[36mtop_k_distance_search\u001b[39m\u001b[34m(image_path, k, feature_model, measure)\u001b[39m\n\u001b[32m     33\u001b[39m feature_space = torch.load(\u001b[33m\"\u001b[39m\u001b[33m/workspaces/dbm25/data/extracted_features.pt\u001b[39m\u001b[33m\"\u001b[39m)\n\u001b[32m     35\u001b[39m \u001b[38;5;66;03m# Get and reshape (linearize) query image features\u001b[39;00m\n\u001b[32m---> \u001b[39m\u001b[32m36\u001b[39m image_query_feature = \u001b[43mimage_query_surrogate\u001b[49m\u001b[43m[\u001b[49m\u001b[43mfeature_model\u001b[49m\u001b[43m]\u001b[49m.reshape(\u001b[32m1\u001b[39m,-\u001b[32m1\u001b[39m) \n\u001b[32m     38\u001b[39m \u001b[38;5;66;03m# Initialize distance metric\u001b[39;00m\n\u001b[32m     39\u001b[39m dist = DistanceMetric.get_metric(measure)\n",
      "\u001b[31mTypeError\u001b[39m: 'NoneType' object is not subscriptable"
     ]
    }
   ],
   "source": [
    "image_path = \"/workspaces/dbm25/data/Part2/Part2/brain_tumor/brain_tumor_1006.jpg\"\n",
    "result = get_k_matching_label(image_path=image_path, k=2, k_neighbors=50, feature_model=\"cm\", measure=\"chebyshev\")\n",
    "\n",
    "print(result)"
   ]
  }
 ],
 "metadata": {
  "kernelspec": {
   "display_name": "venv",
   "language": "python",
   "name": "python3"
  },
  "language_info": {
   "codemirror_mode": {
    "name": "ipython",
    "version": 3
   },
   "file_extension": ".py",
   "mimetype": "text/x-python",
   "name": "python",
   "nbconvert_exporter": "python",
   "pygments_lexer": "ipython3",
   "version": "3.11.2"
  }
 },
 "nbformat": 4,
 "nbformat_minor": 5
}
