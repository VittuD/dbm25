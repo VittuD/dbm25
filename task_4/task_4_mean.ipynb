{
 "cells": [
  {
   "cell_type": "code",
   "execution_count": 10,
   "id": "da157021",
   "metadata": {},
   "outputs": [],
   "source": [
    "import torch\n",
    "from sklearn.metrics import DistanceMetric\n",
    "from sklearn.metrics.pairwise import cosine_similarity\n",
    "import pandas as pd\n",
    "import numpy as np\n",
    "from scipy.spatial import distance\n",
    "\n",
    "import sys\n",
    "sys.path.append('/workspaces/dbm25/task_1_2')\n",
    "from extract_features import extract_features"
   ]
  },
  {
   "cell_type": "code",
   "execution_count": 11,
   "id": "3122e7da",
   "metadata": {},
   "outputs": [],
   "source": [
    "def top_k_class_prediction(image_path, feature_model, k, measure):\n",
    "    \"\"\"\n",
    "    Predicts the top-k most likely classes for an image using class-wise feature averages.\n",
    "\n",
    "    Parameters:\n",
    "    -----------\n",
    "    image_path : str\n",
    "        Path to the query image.\n",
    "    feature_model : str\n",
    "        The name of the feature layer (e.g., 'layer3').\n",
    "    k : int\n",
    "        Number of top predicted classes to return (k <= 2).\n",
    "    measure : str\n",
    "        Similarity or distance metric: 'cosine' or 'euclidean'.\n",
    "\n",
    "    Returns:\n",
    "    --------\n",
    "    List of dictionaries:\n",
    "        Each dict contains:\n",
    "        - \"class\": predicted class label\n",
    "        - \"score\": similarity or inverse distance score\n",
    "    \"\"\"\n",
    "\n",
    "    assert k<= 3\n",
    "\n",
    "    model = torch.hub.load('pytorch/vision:v0.10.0', 'resnet50', pretrained=True)\n",
    "\n",
    "    # 2. Extract feature for input image\n",
    "    surrogate_imag_feature= extract_features(image_path,model)\n",
    "    query_feature = surrogate_imag_feature[feature_model].reshape(1, -1)\n",
    "\n",
    "    # 3. Load precomputed feature space\n",
    "    feature_space = torch.load(\"/workspaces/dbm25/data/extracted_features.pt\")\n",
    "\n",
    "    # 4. Organize features by class\n",
    "    class_features = {}\n",
    "    for item in feature_space:\n",
    "        class_label = item['class']\n",
    "        feature_vector = item[feature_model].reshape(1, -1)\n",
    "\n",
    "        if class_label not in class_features:\n",
    "            class_features[class_label] = [feature_vector]\n",
    "        else:\n",
    "            class_features[class_label].append(feature_vector)\n",
    "\n",
    "    # 5. Compute mean feature per class\n",
    "    class_centroids = {}\n",
    "    for class_label, features in class_features.items():\n",
    "        stacked = np.vstack(features)\n",
    "        mean_feature = np.mean(stacked, axis=0).reshape(1, -1)\n",
    "        class_centroids[class_label] = mean_feature\n",
    "\n",
    "    # 6. Compute similarity/distance to query\n",
    "    results = []\n",
    "    for class_label, centroid in class_centroids.items():\n",
    "        if measure == \"cosine\":\n",
    "            score = cosine_similarity(query_feature, centroid)[0][0]  # Higher = better\n",
    "        else:  # Euclidean\n",
    "            score = -np.linalg.norm(query_feature - centroid)  # Lower = better (so negate)\n",
    "\n",
    "        results.append({\n",
    "            \"class\": class_label,\n",
    "            \"score\": score\n",
    "        })\n",
    "\n",
    "    # 7. Sort and return top-k\n",
    "    results.sort(key=lambda x: x[\"score\"], reverse=True)\n",
    "    return results[:k]\n"
   ]
  },
  {
   "cell_type": "code",
   "execution_count": 12,
   "id": "9a5d99b2",
   "metadata": {},
   "outputs": [
    {
     "name": "stderr",
     "output_type": "stream",
     "text": [
      "Using cache found in /root/.cache/torch/hub/pytorch_vision_v0.10.0\n"
     ]
    },
    {
     "name": "stdout",
     "output_type": "stream",
     "text": [
      "Processing /workspaces/dbm25/data/Part2/Part2/brain_tumor/brain_tumor_1007.jpg\n",
      "Class: brain_tumor, Score: 0.8302\n",
      "Class: brain_menin, Score: 0.7790\n",
      "Class: brain_glioma, Score: 0.7610\n"
     ]
    }
   ],
   "source": [
    "results = top_k_class_prediction(\n",
    "    image_path=\"/workspaces/dbm25/data/Part2/Part2/brain_tumor/brain_tumor_1007.jpg\",\n",
    "    feature_model=\"hog\",\n",
    "    k=3,\n",
    "    measure=\"cosine\"\n",
    ")\n",
    "\n",
    "for res in results:\n",
    "    print(f\"Class: {res['class']}, Score: {res['score']:.4f}\")\n"
   ]
  }
 ],
 "metadata": {
  "kernelspec": {
   "display_name": "venv",
   "language": "python",
   "name": "python3"
  },
  "language_info": {
   "codemirror_mode": {
    "name": "ipython",
    "version": 3
   },
   "file_extension": ".py",
   "mimetype": "text/x-python",
   "name": "python",
   "nbconvert_exporter": "python",
   "pygments_lexer": "ipython3",
   "version": "3.11.2"
  }
 },
 "nbformat": 4,
 "nbformat_minor": 5
}
