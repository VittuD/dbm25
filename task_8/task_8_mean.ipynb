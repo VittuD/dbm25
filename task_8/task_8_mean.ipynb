{
 "cells": [
  {
   "cell_type": "code",
   "execution_count": null,
   "id": "a3741a58",
   "metadata": {},
   "outputs": [],
   "source": [
    "label = \"brain_tumor\"\n",
    "dist= DistanceMetric.get_metric('euclidean')\n",
    "feature_space= torch.load(\"/workspaces/dbm25/data/extracted_features.pt\")\n",
    "feature_list= [elem[\"hog\"].flatten() for elem in feature_space if elem[\"class\"]==label]\n",
    "\n",
    "feature_array= np.array(feature_list)\n",
    "\n",
    "#print(\"Matrix: \" + str(feature_array[0].shape))\n",
    "\n",
    "\n",
    "result= dist.pairwise(feature_array,feature_array)\n",
    "distance= result.mean()\n",
    "\n",
    "print(\"Matrix: \" + str(len(result[0])))\n",
    "print(\"mean: \" + str(distance))\n",
    "\n"
   ]
  }
 ],
 "metadata": {
  "language_info": {
   "name": "python"
  }
 },
 "nbformat": 4,
 "nbformat_minor": 5
}
