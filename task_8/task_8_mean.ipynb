{
 "cells": [
  {
   "cell_type": "code",
   "execution_count": 6,
   "id": "e6102f65",
   "metadata": {},
   "outputs": [],
   "source": [
    "from sklearn.cluster import DBSCAN\n",
    "from sklearn.cluster import KMeans\n",
    "from sklearn.metrics import DistanceMetric\n",
    "import numpy as np\n",
    "import torch\n",
    "import random\n",
    "\n"
   ]
  },
  {
   "cell_type": "code",
   "execution_count": 7,
   "id": "a3741a58",
   "metadata": {},
   "outputs": [
    {
     "name": "stdout",
     "output_type": "stream",
     "text": [
      "Matrix: 1002\n",
      "mean: 10460.198759374005\n"
     ]
    }
   ],
   "source": [
    "label = \"brain_tumor\"\n",
    "dist= DistanceMetric.get_metric('euclidean')\n",
    "feature_space= torch.load(\"/workspaces/dbm25/data/extracted_features.pt\")\n",
    "feature_list= [elem[\"hog\"].flatten() for elem in feature_space if elem[\"class\"]==label]\n",
    "\n",
    "feature_array= np.array(feature_list)\n",
    "\n",
    "#print(\"Matrix: \" + str(feature_array[0].shape))\n",
    "\n",
    "\n",
    "result= dist.pairwise(feature_array,feature_array)\n",
    "distance= result.mean()\n",
    "\n",
    "print(\"Matrix: \" + str(len(result[0])))\n",
    "print(\"mean: \" + str(distance))\n",
    "\n"
   ]
  }
 ],
 "metadata": {
  "kernelspec": {
   "display_name": "venv",
   "language": "python",
   "name": "python3"
  },
  "language_info": {
   "codemirror_mode": {
    "name": "ipython",
    "version": 3
   },
   "file_extension": ".py",
   "mimetype": "text/x-python",
   "name": "python",
   "nbconvert_exporter": "python",
   "pygments_lexer": "ipython3",
   "version": "3.11.2"
  }
 },
 "nbformat": 4,
 "nbformat_minor": 5
}
