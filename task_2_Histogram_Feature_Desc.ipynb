{
 "cells": [
  {
   "cell_type": "code",
   "execution_count": 18,
   "id": "68386bd3",
   "metadata": {},
   "outputs": [],
   "source": [
    "import numpy as np\n",
    "import pandas as pd\n",
    "import os\n",
    "import import_ipynb\n",
    "import task_1_Histograms\n"
   ]
  },
  {
   "cell_type": "code",
   "execution_count": 28,
   "id": "a263a336",
   "metadata": {},
   "outputs": [],
   "source": [
    "classes = [f for f in os.listdir(\"data/Part1/Part1/\") if not f.startswith(\".\")]\n",
    "data = []\n",
    "\n",
    "for class_name in classes:\n",
    "   for file in os.listdir(f\"data/Part1/Part1/{class_name}\"):\n",
    "      hog_vec = task_1_Histograms.Histogramm_HOG(f\"data/Part1/Part1/{class_name}/{file}\")\n",
    "      hog_vec_flat = hog_vec.flatten()\n",
    "      file_id = file.split(\"_\")[2].split(\".\")[0]\n",
    "      new_row = [file_id, file, class_name, str(hog_vec_flat.tolist())] \n",
    "      data.append(new_row)\n",
    "\n",
    "dataframe = pd.DataFrame(data, columns=[\"id\", \"name\", \"class\", \"feature\"])\n",
    "\n",
    "dataframe.to_csv(\"data/histograms_feature_descriptor.csv\", index=False)\n",
    "\n"
   ]
  }
 ],
 "metadata": {
  "kernelspec": {
   "display_name": "venv",
   "language": "python",
   "name": "python3"
  },
  "language_info": {
   "codemirror_mode": {
    "name": "ipython",
    "version": 3
   },
   "file_extension": ".py",
   "mimetype": "text/x-python",
   "name": "python",
   "nbconvert_exporter": "python",
   "pygments_lexer": "ipython3",
   "version": "3.11.2"
  }
 },
 "nbformat": 4,
 "nbformat_minor": 5
}
