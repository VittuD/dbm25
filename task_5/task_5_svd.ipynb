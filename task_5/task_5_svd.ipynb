{
 "cells": [
  {
   "cell_type": "code",
   "execution_count": 25,
   "id": "b91dce22",
   "metadata": {},
   "outputs": [],
   "source": [
    "import matplotlib.pyplot as plt\n",
    "import numpy as np\n",
    "import pandas as pd\n",
    "import torch\n",
    "import matplotlib"
   ]
  },
  {
   "cell_type": "code",
   "execution_count": 26,
   "id": "e2ae1e56",
   "metadata": {},
   "outputs": [],
   "source": [
    "\n",
    "def svd_decomposition(feature_space, feature):\n",
    "   a = []\n",
    "   for element in feature_space:\n",
    "      a.append(element[feature])\n",
    "\n",
    "   a_array = np.array(a)\n",
    "\n",
    "   U, S, Vh = np.linalg.svd(a_array, full_matrices=False, compute_uv=True, hermitian=False)\n",
    "\n",
    "   return U, S, Vh\n",
    "\n",
    "\n",
    "def get_top_k_latent_features(U, k):\n",
    "   return U[:, :k]\n"
   ]
  },
  {
   "cell_type": "code",
   "execution_count": 27,
   "id": "d647d27b",
   "metadata": {},
   "outputs": [],
   "source": [
    "def plot_latent_features(S):\n",
    "   S_list = S.tolist()\n",
    "\n",
    "   top_k_list = [elem for elem in S_list if elem > 100000]\n",
    "\n",
    "   plt.plot(S_list, marker='o')  # 'marker' aggiunge i punti ai valori\n",
    "   plt.title('Andamento continuo dei dati')\n",
    "   plt.xlabel('Indice')\n",
    "   plt.ylabel('Valore')\n",
    "   plt.grid(True)\n",
    "   plt.show()\n",
    "\n",
    "\n",
    "   print(top_k_list)\n",
    "   print(len(top_k_list))\n",
    "\n",
    "def find_elbow_point(y):\n",
    "\n",
    "   x = np.arange(len(y))\n",
    "   # Rette di riferimento: primo e ultimo punto\n",
    "   line_vec = np.array([x[-1] - x[0], y[-1] - y[0]])\n",
    "   line_vec = line_vec / np.linalg.norm(line_vec)\n",
    "\n",
    "   # Distanza di ogni punto dalla retta\n",
    "   vec_from_first = np.stack((x - x[0], y - y[0]), axis=1)\n",
    "   scalar_proj = np.dot(vec_from_first, line_vec)\n",
    "   proj = np.outer(scalar_proj, line_vec)\n",
    "   vec_to_line = vec_from_first - proj\n",
    "   dist_to_line = np.linalg.norm(vec_to_line, axis=1)\n",
    "\n",
    "   # Trova l'indice con distanza massima\n",
    "   elbow_idx = np.argmax(dist_to_line)\n",
    "\n",
    "   return elbow_idx"
   ]
  },
  {
   "cell_type": "code",
   "execution_count": 28,
   "id": "5814fc9f",
   "metadata": {},
   "outputs": [],
   "source": [
    "def serialize_latent_space(feature_space, U, path=\"/workspaces/dbm25/data/svd_latent_features.pt\"):\n",
    "   latent_feature_list = U.tolist()\n",
    "\n",
    "   old_feature_space = pd.DataFrame(feature_space)\n",
    "   old_feature_space = old_feature_space[[\"file_path\", \"class\"]]\n",
    "   old_feature_space[\"svd_latent\"] = latent_feature_list\n",
    "\n",
    "   new_feature_space = []\n",
    "\n",
    "   for index, elem in old_feature_space.iterrows():\n",
    "      new_feature_space.append(elem.to_dict())\n",
    "\n",
    "   torch.save(new_feature_space, f=path)"
   ]
  },
  {
   "cell_type": "markdown",
   "id": "ec713308",
   "metadata": {},
   "source": [
    "**Find top k latent features:**"
   ]
  },
  {
   "cell_type": "code",
   "execution_count": 29,
   "id": "921990a2",
   "metadata": {},
   "outputs": [
    {
     "name": "stdout",
     "output_type": "stream",
     "text": [
      "Elbow point index: 42\n"
     ]
    }
   ],
   "source": [
    "feature_space = torch.load(\"/workspaces/dbm25/data/extracted_features.pt\")\n",
    "feature = \"hog\"\n",
    "\n",
    "U, S, Vh = svd_decomposition(feature_space, feature)\n",
    "\n",
    "# find the elbow point of the S values\n",
    "elbow_idx = find_elbow_point(S)\n",
    "print(f\"Elbow point index: {elbow_idx}\")\n",
    "# extract the top k latent features based on the elbow point\n",
    "k = elbow_idx\n",
    "top_k_latent_features = get_top_k_latent_features(U, k)\n",
    "serialize_latent_space(feature_space, top_k_latent_features, path=f\"/workspaces/dbm25/data/top_{k}_svd_latent_features.pt\")\n",
    "\n"
   ]
  },
  {
   "cell_type": "markdown",
   "id": "91cc9c03",
   "metadata": {},
   "source": [
    "**Find latent features weights**"
   ]
  },
  {
   "cell_type": "code",
   "execution_count": 30,
   "id": "2563ac69",
   "metadata": {},
   "outputs": [],
   "source": [
    "def extract_latent_features_weight(latent_feature_space):\n",
    "   weight_list = []\n",
    "   for element in latent_feature_space:\n",
    "      index_weight = [(f\"Latent Feature {i}: \", weight) for i, weight in enumerate(element[\"svd_latent\"])]\n",
    "      #sorted_weights = np.sort(element[\"svd_latent\"])[::-1]\n",
    "      index_weight = sorted(index_weight, key=lambda x: x[1], reverse=True)\n",
    "      \n",
    "      image_id = element[\"file_path\"].split(\"/\").pop()\n",
    "      new_pair = (image_id, index_weight)\n",
    "      weight_list.append(new_pair)\n",
    "   \n",
    "   return weight_list"
   ]
  },
  {
   "cell_type": "code",
   "execution_count": 31,
   "id": "717dbcce",
   "metadata": {},
   "outputs": [
    {
     "name": "stdout",
     "output_type": "stream",
     "text": [
      "('brain_glioma_0051.jpg', [('Latent Feature 10: ', 0.022267003272862993), ('Latent Feature 31: ', 0.02106213429556215), ('Latent Feature 15: ', 0.018750588877928066), ('Latent Feature 8: ', 0.012947843189133564), ('Latent Feature 38: ', 0.010463016688095673), ('Latent Feature 16: ', 0.010195627293968907), ('Latent Feature 22: ', 0.00938306858419813), ('Latent Feature 7: ', 0.007813018349134778), ('Latent Feature 20: ', 0.006428312048048199), ('Latent Feature 39: ', 0.005242971217400467), ('Latent Feature 28: ', 0.005222683414431162), ('Latent Feature 27: ', 0.005143947051331034), ('Latent Feature 11: ', 0.0050845687437505145), ('Latent Feature 3: ', 0.0045840243409848895), ('Latent Feature 36: ', 0.00223472937582133), ('Latent Feature 13: ', 0.0017734909009584432), ('Latent Feature 32: ', 0.0009282861818511777), ('Latent Feature 26: ', 0.0004552643854857938), ('Latent Feature 24: ', -0.00012317918662769047), ('Latent Feature 23: ', -0.0008848165295434401), ('Latent Feature 12: ', -0.0009617652587552818), ('Latent Feature 25: ', -0.0017638030022707665), ('Latent Feature 37: ', -0.0019251186276628414), ('Latent Feature 19: ', -0.0024528830763628226), ('Latent Feature 40: ', -0.002762890218767979), ('Latent Feature 30: ', -0.005762882485700027), ('Latent Feature 4: ', -0.007789152347961918), ('Latent Feature 9: ', -0.008535907198625098), ('Latent Feature 35: ', -0.00924258747070654), ('Latent Feature 41: ', -0.00954002228808231), ('Latent Feature 2: ', -0.009678301061193564), ('Latent Feature 5: ', -0.009789932774281305), ('Latent Feature 1: ', -0.010154802233786868), ('Latent Feature 21: ', -0.010261608954019256), ('Latent Feature 34: ', -0.011538997869968058), ('Latent Feature 33: ', -0.011610604629621449), ('Latent Feature 17: ', -0.014811497134564405), ('Latent Feature 6: ', -0.015898522651757837), ('Latent Feature 29: ', -0.016350457845825145), ('Latent Feature 0: ', -0.016673724597784628), ('Latent Feature 18: ', -0.017313145173645288), ('Latent Feature 14: ', -0.01927064714730169)])\n"
     ]
    }
   ],
   "source": [
    "latent_feature_space = torch.load(\"/workspaces/dbm25/data/top_42_svd_latent_features.pt\")\n",
    "\n",
    "features_weight = extract_latent_features_weight(latent_feature_space)\n",
    "\n",
    "print(features_weight[0])\n",
    "\n",
    "\n"
   ]
  },
  {
   "cell_type": "code",
   "execution_count": 32,
   "id": "d2672b20",
   "metadata": {},
   "outputs": [
    {
     "name": "stdout",
     "output_type": "stream",
     "text": [
      "Matrix rank: 900\n"
     ]
    }
   ],
   "source": [
    "U, S, Vh = svd_decomposition(feature_space, feature)\n",
    "# print(f\"U.shape: {U.shape}, S.shape: {S.shape}, Vh.shape: {Vh.shape}\")\n",
    "\n",
    "matrix_rank = np.linalg.matrix_rank(U)\n",
    "print(f\"Matrix rank: {matrix_rank}\") # rank is always equal to K\n",
    "\n",
    "\n"
   ]
  },
  {
   "cell_type": "markdown",
   "id": "89e23804",
   "metadata": {},
   "source": []
  }
 ],
 "metadata": {
  "kernelspec": {
   "display_name": "venv",
   "language": "python",
   "name": "python3"
  },
  "language_info": {
   "codemirror_mode": {
    "name": "ipython",
    "version": 3
   },
   "file_extension": ".py",
   "mimetype": "text/x-python",
   "name": "python",
   "nbconvert_exporter": "python",
   "pygments_lexer": "ipython3",
   "version": "3.11.2"
  }
 },
 "nbformat": 4,
 "nbformat_minor": 5
}
