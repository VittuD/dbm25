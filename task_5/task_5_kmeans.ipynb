{
 "cells": [
  {
   "cell_type": "code",
   "execution_count": 40,
   "id": "b91dce22",
   "metadata": {},
   "outputs": [],
   "source": [
    "import matplotlib.pyplot as plt\n",
    "import numpy as np\n",
    "import torch\n",
    "from sklearn.cluster import KMeans\n",
    "\n",
    "feature_space = torch.load(\"/workspaces/dbm25/data/extracted_features.pt\")\n",
    "\n",
    "feature = \"hog\"\n",
    "\n",
    "a = []\n",
    "for element in feature_space:\n",
    "   a.append(element[feature])\n",
    "\n",
    "a_array = np.array(a)\n"
   ]
  },
  {
   "cell_type": "code",
   "execution_count": 41,
   "id": "f1ba149f",
   "metadata": {},
   "outputs": [
    {
     "name": "stdout",
     "output_type": "stream",
     "text": [
      "(10, 900)\n",
      "(3006,)\n"
     ]
    }
   ],
   "source": [
    "k = 10\n",
    "km = KMeans(n_clusters=k, random_state=0)\n",
    "km.fit(a_array)\n",
    "\n",
    "# km.cluster_centers_  → shape (k, 1000)\n",
    "# km.labels_           → array of length 3006\n",
    "centroids = km.cluster_centers_\n",
    "labels = km.labels_\n",
    "\n",
    "print(centroids.shape)\n",
    "print(labels.shape)"
   ]
  },
  {
   "cell_type": "code",
   "execution_count": null,
   "id": "0d283335",
   "metadata": {},
   "outputs": [
    {
     "name": "stdout",
     "output_type": "stream",
     "text": [
      "(3006, 10, 2)\n",
      "[[0.88963338 2.        ]\n",
      " [0.85781755 8.        ]\n",
      " [0.81071696 1.        ]\n",
      " [0.79215841 0.        ]\n",
      " [0.76504046 6.        ]\n",
      " [0.76192477 9.        ]\n",
      " [0.7598861  4.        ]\n",
      " [0.68426075 3.        ]\n",
      " [0.66367538 7.        ]\n",
      " [0.6461779  5.        ]]\n"
     ]
    }
   ],
   "source": [
    "point_similarities = []\n",
    "for idx, point in enumerate(a_array):\n",
    "    # compute the distance of the feature from each centroid with cosine similarity\n",
    "    similarities = []\n",
    "    for idy, centroid in enumerate(centroids):\n",
    "        sim = np.dot(point, centroid) / (np.linalg.norm(point) * np.linalg.norm(centroid))  # cosine similarity\n",
    "        similarities.append(np.array([sim, idy]))\n",
    "    similarities = np.array(similarities)\n",
    "    sorted_similarities = similarities[similarities[:, 0].argsort()[::-1]]\n",
    "    point_similarities.append(sorted_similarities)\n",
    "    \n",
    "point_distances = np.array(point_similarities)\n",
    "# Has shape (n_samples, similarity, centroid_id)\n",
    "print(point_distances.shape)\n",
    "print(point_distances[0])"
   ]
  },
  {
   "cell_type": "code",
   "execution_count": 59,
   "id": "a261bf8f",
   "metadata": {},
   "outputs": [
    {
     "name": "stdout",
     "output_type": "stream",
     "text": [
      "(3006, 10, 2)\n",
      "[[0.88963338 2.        ]\n",
      " [0.85781755 8.        ]\n",
      " [0.81071696 1.        ]\n",
      " [0.79215841 0.        ]\n",
      " [0.76504046 6.        ]\n",
      " [0.76192477 9.        ]\n",
      " [0.7598861  4.        ]\n",
      " [0.68426075 3.        ]\n",
      " [0.66367538 7.        ]\n",
      " [0.6461779  5.        ]]\n"
     ]
    }
   ],
   "source": [
    "# Select m<k most important similarities and keep only that\n",
    "# So for m = 5 and k = 10 we would go from (n_samples, 10, 2) to (n_samples, 5, 2)\n",
    "m = 10\n",
    "test_subject = 0\n",
    "if m <= k:\n",
    "    reduced_point_distances = point_distances[:, :m, :]\n",
    "    print(reduced_point_distances.shape)\n",
    "    print(reduced_point_distances[test_subject])\n",
    "else:\n",
    "    print(\"m must be smaller or equal to k\")"
   ]
  },
  {
   "cell_type": "code",
   "execution_count": 60,
   "id": "c689d29a",
   "metadata": {},
   "outputs": [
    {
     "name": "stdout",
     "output_type": "stream",
     "text": [
      "[2]\n"
     ]
    }
   ],
   "source": [
    "# Predict point test_subject with kmeans and get it's cluster\n",
    "# This should return the same cluster as the first element of point_distances\n",
    "predicted_label = km.predict(a_array[test_subject].reshape(1, -1))\n",
    "print(predicted_label)"
   ]
  },
  {
   "cell_type": "code",
   "execution_count": null,
   "id": "2496f062",
   "metadata": {},
   "outputs": [],
   "source": [
    "# TODO reconstruct the dict with image_id, class, reduced_similarities"
   ]
  }
 ],
 "metadata": {
  "kernelspec": {
   "display_name": "venv",
   "language": "python",
   "name": "python3"
  },
  "language_info": {
   "codemirror_mode": {
    "name": "ipython",
    "version": 3
   },
   "file_extension": ".py",
   "mimetype": "text/x-python",
   "name": "python",
   "nbconvert_exporter": "python",
   "pygments_lexer": "ipython3",
   "version": "3.11.2"
  }
 },
 "nbformat": 4,
 "nbformat_minor": 5
}
