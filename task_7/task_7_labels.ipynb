{
 "cells": [
  {
   "cell_type": "code",
   "execution_count": null,
   "id": "6155064c",
   "metadata": {},
   "outputs": [],
   "source": [
    "import matplotlib.pyplot as plt\n",
    "import numpy as np\n",
    "import pandas as pd\n",
    "import torch\n",
    "import matplotlib\n",
    "from sklearn.metrics import precision_recall_fscore_support, accuracy_score\n",
    "from sklearn.metrics.pairwise import cosine_similarity\n",
    "import os\n"
   ]
  },
  {
   "cell_type": "code",
   "execution_count": 12,
   "id": "22801d60",
   "metadata": {},
   "outputs": [],
   "source": [
    "def svd_decomposition_per_label(feature_space, feature, label):\n",
    "   a = []\n",
    "   for element in feature_space:\n",
    "      if element['class'] == label:\n",
    "         a.append(element[feature])\n",
    "         \n",
    "   a_array = np.array(a)\n",
    "\n",
    "   U, S, Vh = np.linalg.svd(a_array, full_matrices=False, compute_uv=True, hermitian=False)\n",
    "\n",
    "   return U, S, Vh\n",
    "   \n"
   ]
  },
  {
   "cell_type": "code",
   "execution_count": null,
   "id": "e6e9ddb3",
   "metadata": {},
   "outputs": [
    {
     "name": "stdout",
     "output_type": "stream",
     "text": [
      "U.shape: (1002, 900)\n",
      "Matrix rank (inherent dimensionality): 900\n"
     ]
    }
   ],
   "source": [
    "# U, S, Vh = svd_decomposition(feature_space, feature)\n",
    "# print(f\"U.shape: {U.shape}, S.shape: {S.shape}, Vh.shape: {Vh.shape}\")\n",
    "\n",
    "#latent_feature_space = torch.load(\"/workspaces/dbm25/data/svd_latent_features.pt\")\n",
    "\n",
    "feature_space = torch.load(\"/workspaces/dbm25/data/extracted_features.pt\")\n",
    "label = \"brain_glioma\"\n",
    "feature = \"hog\"\n",
    "\n",
    "U, S, Vh = svd_decomposition_per_label(feature_space, feature, label)\n",
    "\n",
    "print(f\"U.shape: {U.shape}\")\n",
    "\n",
    "\n",
    "\n",
    "matrix_rank = np.linalg.matrix_rank(U)\n",
    "\n",
    "num_images= U.shape[0]\n",
    "\n",
    "latent_sum = np.sum(U, axis=0)       \n",
    "latent_mean_glioma = latent_sum / num_images \n",
    "\n",
    "#print(f\"Latent mean vector:\\n{latent_mean}\")\n"
   ]
  },
  {
   "cell_type": "code",
   "execution_count": null,
   "id": "4c0f406a",
   "metadata": {},
   "outputs": [
    {
     "name": "stdout",
     "output_type": "stream",
     "text": [
      "U.shape: (1002, 900)\n"
     ]
    }
   ],
   "source": [
    "\n",
    "label = \"brain_menin\"\n",
    "feature = \"hog\"\n",
    "\n",
    "U, S, Vh = svd_decomposition_per_label(feature_space, feature, label)\n",
    "\n",
    "print(f\"U.shape: {U.shape}\")\n",
    "\n",
    "num_images= U.shape[0]\n",
    "\n",
    "matrix_rank = np.linalg.matrix_rank(U)\n",
    "\n",
    "latent_sum = np.sum(U, axis=0)       \n",
    "latent_mean_menin = latent_sum / num_images \n",
    "\n",
    "#print(f\"Latent mean vector:\\n{latent_mean}\")\n"
   ]
  },
  {
   "cell_type": "code",
   "execution_count": null,
   "id": "8812ac00",
   "metadata": {},
   "outputs": [
    {
     "name": "stdout",
     "output_type": "stream",
     "text": [
      "U.shape: (1002, 900)\n"
     ]
    }
   ],
   "source": [
    "\n",
    "label = \"brain_tumor\"\n",
    "feature = \"hog\"\n",
    "\n",
    "U, S, Vh = svd_decomposition_per_label(feature_space, feature, label)\n",
    "\n",
    "print(f\"U.shape: {U.shape}\")\n",
    "\n",
    "num_images= U.shape[0]\n",
    "\n",
    "matrix_rank = np.linalg.matrix_rank(U)\n",
    "\n",
    "latent_sum = np.sum(U, axis=0)       \n",
    "latent_mean_tumor = latent_sum / num_images \n",
    "\n",
    "#print(f\"Latent mean vector:\\n{latent_mean}\")\n"
   ]
  },
  {
   "cell_type": "code",
   "execution_count": null,
   "id": "3d3291fa",
   "metadata": {},
   "outputs": [
    {
     "ename": "KeyError",
     "evalue": "'hog'",
     "output_type": "error",
     "traceback": [
      "\u001b[31m---------------------------------------------------------------------------\u001b[39m",
      "\u001b[31mKeyError\u001b[39m                                  Traceback (most recent call last)",
      "\u001b[36mCell\u001b[39m\u001b[36m \u001b[39m\u001b[32mIn[16]\u001b[39m\u001b[32m, line 31\u001b[39m\n\u001b[32m     28\u001b[39m y_pred = []\n\u001b[32m     30\u001b[39m \u001b[38;5;28;01mfor\u001b[39;00m item \u001b[38;5;129;01min\u001b[39;00m feature_space_part2:\n\u001b[32m---> \u001b[39m\u001b[32m31\u001b[39m     feat = np.array(\u001b[43mitem\u001b[49m\u001b[43m[\u001b[49m\u001b[43mfeature\u001b[49m\u001b[43m]\u001b[49m)\n\u001b[32m     32\u001b[39m     true_label = item[\u001b[33m\"\u001b[39m\u001b[33mclass\u001b[39m\u001b[33m\"\u001b[39m]\n\u001b[32m     34\u001b[39m     pred_label = predict_label_for_feature(feat, label_latent_means, measure=\u001b[33m\"\u001b[39m\u001b[33mcosine\u001b[39m\u001b[33m\"\u001b[39m)\n",
      "\u001b[31mKeyError\u001b[39m: 'hog'"
     ]
    }
   ],
   "source": [
    "#PARTE 2 DELLA TASK_7\n",
    "\n",
    "\n",
    "label_latent_means = {\n",
    "    \"brain_glioma\": latent_mean_glioma,\n",
    "    \"brain_menin\": latent_mean_menin,\n",
    "    \"brain_tumor\": latent_mean_tumor,\n",
    "}\n",
    "\n",
    "def predict_label_for_feature(query_feature, class_centroids, measure=\"cosine\"):\n",
    "    results = []\n",
    "    for class_label, centroid in class_centroids.items():\n",
    "        if measure == \"cosine\":\n",
    "            score = cosine_similarity(query_feature.reshape(1, -1), centroid.reshape(1, -1))[0][0]\n",
    "        else:  # Euclidean distance\n",
    "            score = -np.linalg.norm(query_feature - centroid)\n",
    "        results.append((class_label, score))\n",
    "    results.sort(key=lambda x: x[1], reverse=True)\n",
    "    return results[0][0] \n",
    "\n",
    "\n",
    "\n",
    "feature_space_part2 = torch.load(\"/workspaces/dbm25/data/svd_latent_features.pt\")\n",
    "feature = \"svd_latent\"\n",
    "\n",
    "\n",
    "y_true = []\n",
    "y_pred = []\n",
    "\n",
    "for item in feature_space_part2:\n",
    "    feat = np.array(item[feature])\n",
    "    true_label = item[\"class\"]\n",
    "\n",
    "    pred_label = predict_label_for_feature(feat, label_latent_means, measure=\"cosine\")\n",
    "\n",
    "    y_true.append(true_label)\n",
    "    y_pred.append(pred_label)\n",
    "\n",
    "# Calcola precision, recall, f1 e accuracy\n",
    "labels = list(label_latent_means.keys())\n",
    "precision, recall, f1, _ = precision_recall_fscore_support(y_true, y_pred, labels=labels, zero_division=0)\n",
    "accuracy = accuracy_score(y_true, y_pred)\n",
    "\n",
    "# Stampa metriche per ogni label\n",
    "for i, label in enumerate(labels):\n",
    "    print(f\"Label: {label}\")\n",
    "    print(f\"  Precision: {precision[i]:.4f}\")\n",
    "    print(f\"  Recall:    {recall[i]:.4f}\")\n",
    "    print(f\"  F1-score:  {f1[i]:.4f}\")\n",
    "    print()\n",
    "\n",
    "print(f\"Overall accuracy: {accuracy:.4f}\")\n"
   ]
  }
 ],
 "metadata": {
  "kernelspec": {
   "display_name": "venv",
   "language": "python",
   "name": "python3"
  },
  "language_info": {
   "codemirror_mode": {
    "name": "ipython",
    "version": 3
   },
   "file_extension": ".py",
   "mimetype": "text/x-python",
   "name": "python",
   "nbconvert_exporter": "python",
   "pygments_lexer": "ipython3",
   "version": "3.11.2"
  }
 },
 "nbformat": 4,
 "nbformat_minor": 5
}
