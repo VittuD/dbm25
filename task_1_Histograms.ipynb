{
 "cells": [
  {
   "cell_type": "code",
   "execution_count": 1,
   "id": "c03eb504",
   "metadata": {},
   "outputs": [],
   "source": [
    "import cv2\n",
    "import numpy as np\n",
    "import matplotlib.pyplot as plt"
   ]
  },
  {
   "cell_type": "code",
   "execution_count": 2,
   "id": "f6f32900",
   "metadata": {},
   "outputs": [],
   "source": [
    "def Histogramm_HOG(file_path):\n",
    "  img= cv2.imread(file_path, cv2.IMREAD_GRAYSCALE)\n",
    "  img= cv2.resize(img,(300,10))\n",
    "\n",
    "  #Gradienti + maschere della traccia\n",
    "  gx=cv2.filter2D(img.astype(np.float32), -1, np.array([[-1,0,1]]))\n",
    "  gy= cv2.filter2D(img.astype(np.float32), -1, np.array([[-1],[0],[1]])) #T di [-1,0,1]\n",
    "\n",
    "\n",
    "  #Magnitudine \n",
    "  magnitude = np.sqrt(gx**2 + gy**2)\n",
    "  angle = np.arctan2(gy, gx) * (180 / np.pi)  # Radiani → gradi\n",
    "  angle[angle < 0] += 360  # Range 0-360\n",
    "\n",
    "\n",
    "  # Parametri della griglia\n",
    "  cell_rows, cell_cols = 10, 10\n",
    "  cell_height = img.shape[0] // cell_rows   # 10\n",
    "  cell_width  = img.shape[1] // cell_cols   # 30\n",
    "\n",
    "  bins = 9\n",
    "  bin_size = 360 // bins  # 40 gradi per bin\n",
    "\n",
    "  hog_features = []\n",
    "\n",
    "  #Griglia\n",
    "  for i in range(cell_rows):\n",
    "    for j in range(cell_cols):\n",
    "      y_start, y_end = i * cell_height, (i + 1) * cell_height\n",
    "      x_start, x_end = j * cell_width,  (j + 1) * cell_width\n",
    "\n",
    "      # Estraggo sottoimmagine (cella)\n",
    "      mag_cell = magnitude[y_start:y_end, x_start:x_end]\n",
    "      ang_cell = angle[y_start:y_end, x_start:x_end]\n",
    "\n",
    "      # Istogramma a 9 bin (da 0 a 360°)\n",
    "      hist = np.zeros(bins)\n",
    "\n",
    "      # Popola istogramma \n",
    "      for y in range(mag_cell.shape[0]):\n",
    "        for x in range(mag_cell.shape[1]):\n",
    "          mag = mag_cell[y, x]\n",
    "          ang = ang_cell[y, x]\n",
    "          bin_idx = int(ang // bin_size) % bins\n",
    "          hist[bin_idx] += mag\n",
    "\n",
    "      hog_features.extend(hist)\n",
    "\n",
    "  return np.array(hog_features)"
   ]
  },
  {
   "cell_type": "code",
   "execution_count": 3,
   "id": "d2975d59",
   "metadata": {},
   "outputs": [
    {
     "name": "stdout",
     "output_type": "stream",
     "text": [
      "Vettore HOG: (900,)\n"
     ]
    }
   ],
   "source": [
    "hog_vec = Histogramm_HOG(\"/workspaces/dbm25/data/Part1/Part1/brain_menin/brain_menin_0001.jpg\")\n",
    "print(\"Vettore HOG:\", hog_vec.shape)  # (900,)\n"
   ]
  }
 ],
 "metadata": {
  "kernelspec": {
   "display_name": "venv",
   "language": "python",
   "name": "python3"
  },
  "language_info": {
   "codemirror_mode": {
    "name": "ipython",
    "version": 3
   },
   "file_extension": ".py",
   "mimetype": "text/x-python",
   "name": "python",
   "nbconvert_exporter": "python",
   "pygments_lexer": "ipython3",
   "version": "3.11.2"
  }
 },
 "nbformat": 4,
 "nbformat_minor": 5
}
