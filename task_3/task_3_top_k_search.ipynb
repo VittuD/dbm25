{
 "cells": [
  {
   "cell_type": "code",
   "execution_count": 41,
   "id": "da66a7c1",
   "metadata": {},
   "outputs": [],
   "source": [
    "import torch\n",
    "from sklearn.metrics import DistanceMetric\n",
    "from sklearn.metrics.pairwise import cosine_similarity\n",
    "import pandas as pd\n",
    "import numpy as np\n",
    "from scipy.spatial import distance\n",
    "\n",
    "import sys\n",
    "sys.path.append('/workspaces/dbm25/task_1_2')\n",
    "from tabulate import tabulate\n",
    "\n",
    "\n",
    "from extract_features import extract_features\n",
    "\n"
   ]
  },
  {
   "cell_type": "code",
   "execution_count": 42,
   "id": "59cf8e67",
   "metadata": {},
   "outputs": [],
   "source": [
    "def top_k_distance_search(image_path, k, feature_model, measure):\n",
    "    \"\"\"\n",
    "    Finds the k most similar images to an input image based on a feature model and distance metric.\n",
    "    \n",
    "    Parameters:\n",
    "    ----------\n",
    "    image_path : str\n",
    "        Path to the input image.\n",
    "    k : int\n",
    "        Number of similar images to return.\n",
    "    feature_model : str\n",
    "        Feature extraction model identifier to use.\n",
    "    measure : str\n",
    "        Distance metric name (compatible with sklearn.metrics.DistanceMetric).\n",
    "    \n",
    "    Returns:\n",
    "    -------\n",
    "    list of dict\n",
    "        List of k dictionaries containing similar image information:\n",
    "        - \"image_name\": image name\n",
    "        - \"file_path\": image path\n",
    "        - \"class\": image class\n",
    "        - \"distance_score\": distance score (lower = more similar)\n",
    "    \"\"\"\n",
    "    \n",
    "    # Load pre-trained ResNet50 model\n",
    "    model = torch.hub.load('pytorch/vision:v0.10.0', 'resnet50', pretrained=True)\n",
    "    model.eval()\n",
    "    \n",
    "    # Extract features from input image\n",
    "    image_query_surrogate = extract_features(image_path, model)\n",
    "\n",
    "    # Load feature space from database\n",
    "    feature_space = torch.load(\"/workspaces/dbm25/data/extracted_features.pt\")\n",
    "    \n",
    "    # Get and reshape (linearize) query image features\n",
    "    image_query_feature = image_query_surrogate[feature_model].reshape(1,-1) \n",
    "    \n",
    "    # Initialize distance metric\n",
    "    dist = DistanceMetric.get_metric(measure)\n",
    "    results = []\n",
    "\n",
    "    # Compare query image against each image in the database\n",
    "    for image_surrogate in feature_space:\n",
    "        image_surrogate_feature = image_surrogate[feature_model].reshape(1,-1)\n",
    "        \n",
    "        # Calculate distance between query image and current database image\n",
    "        distance_score = dist.pairwise(image_query_feature, image_surrogate_feature)[0][0]\n",
    "        image_name = image_surrogate[\"file_path\"].split(\"/\").pop()\n",
    "\n",
    "        new_result = {\n",
    "            \"image_name\": image_name,\n",
    "            \"file_path\": image_surrogate[\"file_path\"],\n",
    "            \"class\": image_surrogate[\"class\"],\n",
    "            \"distance_score\": distance_score\n",
    "        }\n",
    "        \n",
    "        # Maintain a list of only the k most similar images\n",
    "        if len(results) < k:\n",
    "            results.append(new_result)\n",
    "        else:\n",
    "            # Sort by distance (descending - largest distance first)\n",
    "            results.sort(key=lambda element: element[\"distance_score\"], reverse=True)\n",
    "            \n",
    "            # Replace least similar image if current one is more similar\n",
    "            if results[0][\"distance_score\"] > new_result[\"distance_score\"]:\n",
    "                results.pop(0)\n",
    "                results.append(new_result)\n",
    "\n",
    "    return results"
   ]
  },
  {
   "cell_type": "code",
   "execution_count": 43,
   "id": "4ee64509",
   "metadata": {},
   "outputs": [],
   "source": [
    "def top_k_cosine_similarity_search(image_path, k, feature_model):\n",
    "   \"\"\"\n",
    "    Finds the k most similar images to an input image based on a feature model and the cosine similarity.\n",
    "    \n",
    "    Parameters:\n",
    "    ----------\n",
    "    image_path : str\n",
    "        Path to the input image.\n",
    "    k : int\n",
    "        Number of similar images to return.\n",
    "    feature_model : str\n",
    "        Feature extraction model identifier to use.\n",
    "    \n",
    "    Returns:\n",
    "    -------\n",
    "    list of dict\n",
    "        List of k dictionaries containing similar image information:\n",
    "        - \"image_name\": image name\n",
    "        - \"file_path\": image path\n",
    "        - \"class\": image class\n",
    "        - \"similarity_score\": similarity score (higher = more similar)\n",
    "    \"\"\"\n",
    "   \n",
    "   # Load pre-trained ResNet50 model\n",
    "   model = torch.hub.load('pytorch/vision:v0.10.0', 'resnet50', pretrained=True)\n",
    "   model.eval()\n",
    "    \n",
    "   # Extract features from input image\n",
    "   image_query_surrogate = extract_features(image_path, model)\n",
    "   \n",
    "\n",
    "   # Load feature space from database\n",
    "   feature_space = torch.load(\"/workspaces/dbm25/data/extracted_features.pt\")\n",
    "    \n",
    "   # Get and reshape (linearize) query image features\n",
    "   image_query_feature = image_query_surrogate[feature_model].reshape(1,-1) \n",
    "   \n",
    "   results = []\n",
    "\n",
    "   # Compare query image against each image in the database\n",
    "   for image_surrogate in feature_space:\n",
    "        image_surrogate_feature = image_surrogate[feature_model].reshape(1,-1)\n",
    "        \n",
    "        # Calculate distance between query image and current database image\n",
    "        similarity_score = cosine_similarity(image_query_feature, image_surrogate_feature)[0][0]\n",
    "        image_name = image_surrogate[\"file_path\"].split(\"/\").pop()\n",
    "\n",
    "        new_result = {\n",
    "            \"image_name\": image_name,\n",
    "            \"file_path\": image_surrogate[\"file_path\"],\n",
    "            \"class\": image_surrogate[\"class\"],\n",
    "            \"similarity_score\": similarity_score\n",
    "        }\n",
    "        \n",
    "        # Maintain a list of only the k most similar images\n",
    "        if len(results) < k:\n",
    "            results.append(new_result)\n",
    "        else:\n",
    "            # Sort by distance (descending - smallest similarity first)\n",
    "            results.sort(key=lambda element: element[\"similarity_score\"])\n",
    "            \n",
    "            # Replace least similar image if current one is more similar\n",
    "            if results[0][\"similarity_score\"] < new_result[\"similarity_score\"]:\n",
    "                results.pop(0)\n",
    "                results.append(new_result)\n",
    "\n",
    "   return results\n",
    "\n",
    "\n",
    "   "
   ]
  },
  {
   "cell_type": "code",
   "execution_count": 44,
   "id": "3a1d708e",
   "metadata": {},
   "outputs": [
    {
     "name": "stderr",
     "output_type": "stream",
     "text": [
      "Using cache found in /root/.cache/torch/hub/pytorch_vision_v0.10.0\n"
     ]
    },
    {
     "name": "stdout",
     "output_type": "stream",
     "text": [
      "Processing /workspaces/dbm25/data/Part1/Part1/brain_glioma/brain_glioma_0051.jpg\n"
     ]
    },
    {
     "ename": "ValueError",
     "evalue": "Incompatible dimension for X and Y matrices: X.shape[1] == 3 while Y.shape[1] == 300",
     "output_type": "error",
     "traceback": [
      "\u001b[31m---------------------------------------------------------------------------\u001b[39m",
      "\u001b[31mValueError\u001b[39m                                Traceback (most recent call last)",
      "\u001b[36mCell\u001b[39m\u001b[36m \u001b[39m\u001b[32mIn[44]\u001b[39m\u001b[32m, line 1\u001b[39m\n\u001b[32m----> \u001b[39m\u001b[32m1\u001b[39m results = \u001b[43mtop_k_cosine_similarity_search\u001b[49m\u001b[43m(\u001b[49m\u001b[43mimage_path\u001b[49m\u001b[43m=\u001b[49m\u001b[33;43m\"\u001b[39;49m\u001b[33;43m/workspaces/dbm25/data/Part1/Part1/brain_glioma/brain_glioma_0051.jpg\u001b[39;49m\u001b[33;43m\"\u001b[39;49m\u001b[43m,\u001b[49m\u001b[43m \u001b[49m\n\u001b[32m      2\u001b[39m \u001b[43m                                \u001b[49m\u001b[43mk\u001b[49m\u001b[43m=\u001b[49m\u001b[32;43m5\u001b[39;49m\u001b[43m,\u001b[49m\u001b[43m \u001b[49m\n\u001b[32m      3\u001b[39m \u001b[43m                                \u001b[49m\u001b[43mfeature_model\u001b[49m\u001b[43m=\u001b[49m\u001b[33;43m\"\u001b[39;49m\u001b[33;43mcm\u001b[39;49m\u001b[33;43m\"\u001b[39;49m\u001b[43m,\u001b[49m\n\u001b[32m      4\u001b[39m \u001b[43m                              \u001b[49m\u001b[43m)\u001b[49m\n\u001b[32m      5\u001b[39m results.reverse()\n\u001b[32m      7\u001b[39m \u001b[38;5;28mprint\u001b[39m(tabulate(results, headers=\u001b[33m'\u001b[39m\u001b[33mkeys\u001b[39m\u001b[33m'\u001b[39m, tablefmt=\u001b[33m'\u001b[39m\u001b[33mpsql\u001b[39m\u001b[33m'\u001b[39m))\n",
      "\u001b[36mCell\u001b[39m\u001b[36m \u001b[39m\u001b[32mIn[43]\u001b[39m\u001b[32m, line 45\u001b[39m, in \u001b[36mtop_k_cosine_similarity_search\u001b[39m\u001b[34m(image_path, k, feature_model)\u001b[39m\n\u001b[32m     42\u001b[39m image_surrogate_feature = image_surrogate[feature_model].reshape(\u001b[32m1\u001b[39m,-\u001b[32m1\u001b[39m)\n\u001b[32m     44\u001b[39m \u001b[38;5;66;03m# Calculate distance between query image and current database image\u001b[39;00m\n\u001b[32m---> \u001b[39m\u001b[32m45\u001b[39m similarity_score = \u001b[43mcosine_similarity\u001b[49m\u001b[43m(\u001b[49m\u001b[43mimage_query_feature\u001b[49m\u001b[43m,\u001b[49m\u001b[43m \u001b[49m\u001b[43mimage_surrogate_feature\u001b[49m\u001b[43m)\u001b[49m[\u001b[32m0\u001b[39m][\u001b[32m0\u001b[39m]\n\u001b[32m     46\u001b[39m image_name = image_surrogate[\u001b[33m\"\u001b[39m\u001b[33mfile_path\u001b[39m\u001b[33m\"\u001b[39m].split(\u001b[33m\"\u001b[39m\u001b[33m/\u001b[39m\u001b[33m\"\u001b[39m).pop()\n\u001b[32m     48\u001b[39m new_result = {\n\u001b[32m     49\u001b[39m     \u001b[33m\"\u001b[39m\u001b[33mimage_name\u001b[39m\u001b[33m\"\u001b[39m: image_name,\n\u001b[32m     50\u001b[39m     \u001b[33m\"\u001b[39m\u001b[33mfile_path\u001b[39m\u001b[33m\"\u001b[39m: image_surrogate[\u001b[33m\"\u001b[39m\u001b[33mfile_path\u001b[39m\u001b[33m\"\u001b[39m],\n\u001b[32m     51\u001b[39m     \u001b[33m\"\u001b[39m\u001b[33mclass\u001b[39m\u001b[33m\"\u001b[39m: image_surrogate[\u001b[33m\"\u001b[39m\u001b[33mclass\u001b[39m\u001b[33m\"\u001b[39m],\n\u001b[32m     52\u001b[39m     \u001b[33m\"\u001b[39m\u001b[33msimilarity_score\u001b[39m\u001b[33m\"\u001b[39m: similarity_score\n\u001b[32m     53\u001b[39m }\n",
      "\u001b[36mFile \u001b[39m\u001b[32m/opt/venv/lib/python3.11/site-packages/sklearn/utils/_param_validation.py:216\u001b[39m, in \u001b[36mvalidate_params.<locals>.decorator.<locals>.wrapper\u001b[39m\u001b[34m(*args, **kwargs)\u001b[39m\n\u001b[32m    210\u001b[39m \u001b[38;5;28;01mtry\u001b[39;00m:\n\u001b[32m    211\u001b[39m     \u001b[38;5;28;01mwith\u001b[39;00m config_context(\n\u001b[32m    212\u001b[39m         skip_parameter_validation=(\n\u001b[32m    213\u001b[39m             prefer_skip_nested_validation \u001b[38;5;129;01mor\u001b[39;00m global_skip_validation\n\u001b[32m    214\u001b[39m         )\n\u001b[32m    215\u001b[39m     ):\n\u001b[32m--> \u001b[39m\u001b[32m216\u001b[39m         \u001b[38;5;28;01mreturn\u001b[39;00m \u001b[43mfunc\u001b[49m\u001b[43m(\u001b[49m\u001b[43m*\u001b[49m\u001b[43margs\u001b[49m\u001b[43m,\u001b[49m\u001b[43m \u001b[49m\u001b[43m*\u001b[49m\u001b[43m*\u001b[49m\u001b[43mkwargs\u001b[49m\u001b[43m)\u001b[49m\n\u001b[32m    217\u001b[39m \u001b[38;5;28;01mexcept\u001b[39;00m InvalidParameterError \u001b[38;5;28;01mas\u001b[39;00m e:\n\u001b[32m    218\u001b[39m     \u001b[38;5;66;03m# When the function is just a wrapper around an estimator, we allow\u001b[39;00m\n\u001b[32m    219\u001b[39m     \u001b[38;5;66;03m# the function to delegate validation to the estimator, but we replace\u001b[39;00m\n\u001b[32m    220\u001b[39m     \u001b[38;5;66;03m# the name of the estimator by the name of the function in the error\u001b[39;00m\n\u001b[32m    221\u001b[39m     \u001b[38;5;66;03m# message to avoid confusion.\u001b[39;00m\n\u001b[32m    222\u001b[39m     msg = re.sub(\n\u001b[32m    223\u001b[39m         \u001b[33mr\u001b[39m\u001b[33m\"\u001b[39m\u001b[33mparameter of \u001b[39m\u001b[33m\\\u001b[39m\u001b[33mw+ must be\u001b[39m\u001b[33m\"\u001b[39m,\n\u001b[32m    224\u001b[39m         \u001b[33mf\u001b[39m\u001b[33m\"\u001b[39m\u001b[33mparameter of \u001b[39m\u001b[38;5;132;01m{\u001b[39;00mfunc.\u001b[34m__qualname__\u001b[39m\u001b[38;5;132;01m}\u001b[39;00m\u001b[33m must be\u001b[39m\u001b[33m\"\u001b[39m,\n\u001b[32m    225\u001b[39m         \u001b[38;5;28mstr\u001b[39m(e),\n\u001b[32m    226\u001b[39m     )\n",
      "\u001b[36mFile \u001b[39m\u001b[32m/opt/venv/lib/python3.11/site-packages/sklearn/metrics/pairwise.py:1741\u001b[39m, in \u001b[36mcosine_similarity\u001b[39m\u001b[34m(X, Y, dense_output)\u001b[39m\n\u001b[32m   1695\u001b[39m \u001b[38;5;250m\u001b[39m\u001b[33;03m\"\"\"Compute cosine similarity between samples in X and Y.\u001b[39;00m\n\u001b[32m   1696\u001b[39m \n\u001b[32m   1697\u001b[39m \u001b[33;03mCosine similarity, or the cosine kernel, computes similarity as the\u001b[39;00m\n\u001b[32m   (...)\u001b[39m\u001b[32m   1737\u001b[39m \u001b[33;03m       [0.57..., 0.81...]])\u001b[39;00m\n\u001b[32m   1738\u001b[39m \u001b[33;03m\"\"\"\u001b[39;00m\n\u001b[32m   1739\u001b[39m \u001b[38;5;66;03m# to avoid recursive import\u001b[39;00m\n\u001b[32m-> \u001b[39m\u001b[32m1741\u001b[39m X, Y = \u001b[43mcheck_pairwise_arrays\u001b[49m\u001b[43m(\u001b[49m\u001b[43mX\u001b[49m\u001b[43m,\u001b[49m\u001b[43m \u001b[49m\u001b[43mY\u001b[49m\u001b[43m)\u001b[49m\n\u001b[32m   1743\u001b[39m X_normalized = normalize(X, copy=\u001b[38;5;28;01mTrue\u001b[39;00m)\n\u001b[32m   1744\u001b[39m \u001b[38;5;28;01mif\u001b[39;00m X \u001b[38;5;129;01mis\u001b[39;00m Y:\n",
      "\u001b[36mFile \u001b[39m\u001b[32m/opt/venv/lib/python3.11/site-packages/sklearn/metrics/pairwise.py:229\u001b[39m, in \u001b[36mcheck_pairwise_arrays\u001b[39m\u001b[34m(X, Y, precomputed, dtype, accept_sparse, force_all_finite, ensure_all_finite, ensure_2d, copy)\u001b[39m\n\u001b[32m    221\u001b[39m         \u001b[38;5;28;01mraise\u001b[39;00m \u001b[38;5;167;01mValueError\u001b[39;00m(\n\u001b[32m    222\u001b[39m             \u001b[33m\"\u001b[39m\u001b[33mPrecomputed metric requires shape \u001b[39m\u001b[33m\"\u001b[39m\n\u001b[32m    223\u001b[39m             \u001b[33m\"\u001b[39m\u001b[33m(n_queries, n_indexed). Got (\u001b[39m\u001b[38;5;132;01m%d\u001b[39;00m\u001b[33m, \u001b[39m\u001b[38;5;132;01m%d\u001b[39;00m\u001b[33m) \u001b[39m\u001b[33m\"\u001b[39m\n\u001b[32m    224\u001b[39m             \u001b[33m\"\u001b[39m\u001b[33mfor \u001b[39m\u001b[38;5;132;01m%d\u001b[39;00m\u001b[33m indexed.\u001b[39m\u001b[33m\"\u001b[39m % (X.shape[\u001b[32m0\u001b[39m], X.shape[\u001b[32m1\u001b[39m], Y.shape[\u001b[32m0\u001b[39m])\n\u001b[32m    225\u001b[39m         )\n\u001b[32m    226\u001b[39m \u001b[38;5;28;01melif\u001b[39;00m ensure_2d \u001b[38;5;129;01mand\u001b[39;00m X.shape[\u001b[32m1\u001b[39m] != Y.shape[\u001b[32m1\u001b[39m]:\n\u001b[32m    227\u001b[39m     \u001b[38;5;66;03m# Only check the number of features if 2d arrays are enforced. Otherwise,\u001b[39;00m\n\u001b[32m    228\u001b[39m     \u001b[38;5;66;03m# validation is left to the user for custom metrics.\u001b[39;00m\n\u001b[32m--> \u001b[39m\u001b[32m229\u001b[39m     \u001b[38;5;28;01mraise\u001b[39;00m \u001b[38;5;167;01mValueError\u001b[39;00m(\n\u001b[32m    230\u001b[39m         \u001b[33m\"\u001b[39m\u001b[33mIncompatible dimension for X and Y matrices: \u001b[39m\u001b[33m\"\u001b[39m\n\u001b[32m    231\u001b[39m         \u001b[33m\"\u001b[39m\u001b[33mX.shape[1] == \u001b[39m\u001b[38;5;132;01m%d\u001b[39;00m\u001b[33m while Y.shape[1] == \u001b[39m\u001b[38;5;132;01m%d\u001b[39;00m\u001b[33m\"\u001b[39m % (X.shape[\u001b[32m1\u001b[39m], Y.shape[\u001b[32m1\u001b[39m])\n\u001b[32m    232\u001b[39m     )\n\u001b[32m    234\u001b[39m \u001b[38;5;28;01mreturn\u001b[39;00m X, Y\n",
      "\u001b[31mValueError\u001b[39m: Incompatible dimension for X and Y matrices: X.shape[1] == 3 while Y.shape[1] == 300"
     ]
    }
   ],
   "source": [
    "results = top_k_cosine_similarity_search(image_path=\"/workspaces/dbm25/data/Part1/Part1/brain_glioma/brain_glioma_0051.jpg\", \n",
    "                                k=5, \n",
    "                                feature_model=\"cm\",\n",
    "                              )\n",
    "results.reverse()\n",
    "\n",
    "print(tabulate(results, headers='keys', tablefmt='psql'))\n"
   ]
  },
  {
   "cell_type": "code",
   "execution_count": 49,
   "id": "dfc5cde2",
   "metadata": {},
   "outputs": [
    {
     "name": "stderr",
     "output_type": "stream",
     "text": [
      "Using cache found in /root/.cache/torch/hub/pytorch_vision_v0.10.0\n"
     ]
    },
    {
     "name": "stdout",
     "output_type": "stream",
     "text": [
      "torch.Size([300])\n"
     ]
    }
   ],
   "source": [
    "# Load pre-trained ResNet50 model\n",
    "model = torch.hub.load('pytorch/vision:v0.10.0', 'resnet50', pretrained=True)\n",
    "image_path=\"/workspaces/dbm25/data/Part1/Part1/brain_menin/brain_menin_0001.jpg\"   \n",
    "\n",
    "# Extract features from input image\n",
    "feature_space = torch.load(\"/workspaces/dbm25/data/extracted_features.pt\")\n",
    "\n",
    "print(feature_space[0][\"cm\"].shape)"
   ]
  }
 ],
 "metadata": {
  "kernelspec": {
   "display_name": "venv",
   "language": "python",
   "name": "python3"
  },
  "language_info": {
   "codemirror_mode": {
    "name": "ipython",
    "version": 3
   },
   "file_extension": ".py",
   "mimetype": "text/x-python",
   "name": "python",
   "nbconvert_exporter": "python",
   "pygments_lexer": "ipython3",
   "version": "3.11.2"
  }
 },
 "nbformat": 4,
 "nbformat_minor": 5
}
