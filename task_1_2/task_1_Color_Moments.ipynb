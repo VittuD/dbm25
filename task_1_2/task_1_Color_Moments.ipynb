{
 "cells": [
  {
   "cell_type": "code",
   "execution_count": 2,
   "id": "d97d6449",
   "metadata": {},
   "outputs": [],
   "source": [
    "import cv2\n",
    "import numpy as np\n",
    "from scipy.stats import skew"
   ]
  },
  {
   "cell_type": "code",
   "execution_count": 3,
   "id": "c6a4bc68",
   "metadata": {},
   "outputs": [],
   "source": [
    "\n",
    "def resize_img(file_path):\n",
    "    img = cv2.imread(file_path)\n",
    "    img = cv2.resize(img, (300, 100))\n",
    "    image_color = cv2.cvtColor(img, cv2.COLOR_BGR2RGB)\n",
    "    \n",
    "    grid_rows, grid_colum = 10, 10\n",
    "    cell_height = image_color.shape[0] // grid_rows  # = 10\n",
    "    cell_space  = image_color.shape[1] // grid_colum  # = 30\n",
    "\n",
    "    features = []\n",
    "\n",
    "    for i in range(grid_rows):\n",
    "        for j in range(grid_colum):\n",
    "            y_start, y_end = i * cell_height, (i + 1) * cell_height\n",
    "            x_start, x_end = j * cell_space,  (j + 1) * cell_space\n",
    "\n",
    "            cell = image_color[y_start:y_end, x_start:x_end, :]  # (10, 30, 3)\n",
    "\n",
    "            for channel in range(3):  # R, G, B\n",
    "                values = cell[:, :, channel].flatten()\n",
    "                mean_val = np.mean(values)\n",
    "                std_val  = np.std(values)\n",
    "                skew_val = skew(values)\n",
    "\n",
    "                features.extend([mean_val, std_val, skew_val])\n",
    "\n",
    "    return np.array(features)\n"
   ]
  },
  {
   "cell_type": "code",
   "execution_count": 4,
   "id": "054459d9",
   "metadata": {},
   "outputs": [],
   "source": [
    "feature_vector = resize_img(\"/workspaces/dbm25/data/Part1/Part1/brain_menin/brain_menin_0001.jpg\")\n",
    "#print(\"Dimensione del vettore:\", feature_vector.shape)  # Output: (900,)"
   ]
  }
 ],
 "metadata": {
  "kernelspec": {
   "display_name": "venv",
   "language": "python",
   "name": "python3"
  },
  "language_info": {
   "codemirror_mode": {
    "name": "ipython",
    "version": 3
   },
   "file_extension": ".py",
   "mimetype": "text/x-python",
   "name": "python",
   "nbconvert_exporter": "python",
   "pygments_lexer": "ipython3",
   "version": "3.11.2"
  }
 },
 "nbformat": 4,
 "nbformat_minor": 5
}
