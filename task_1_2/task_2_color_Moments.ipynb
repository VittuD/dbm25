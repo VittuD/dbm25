{
 "cells": [
  {
   "cell_type": "code",
   "execution_count": null,
   "id": "79a0b330",
   "metadata": {},
   "outputs": [],
   "source": [
    "import import_ipynb\n",
    "import task_1_Color_Moments \n",
    "import pandas as p \n",
    "import torch\n",
    "import os"
   ]
  },
  {
   "cell_type": "code",
   "execution_count": null,
   "id": "14acc90c",
   "metadata": {},
   "outputs": [
    {
     "name": "stderr",
     "output_type": "stream",
     "text": [
      "<string>:23: RuntimeWarning: Precision loss occurred in moment calculation due to catastrophic cancellation. This occurs when the data are nearly identical. Results may be unreliable.\n"
     ]
    }
   ],
   "source": [
    "cartella_img1 = \"/workspaces/dbm25/data/Part1/Part1\"\n",
    "\n",
    "righe = []\n",
    "\n",
    "for classe in os.listdir(cartella_img1):\n",
    "  percorso_classe = os.path.join(cartella_img1, classe)\n",
    "  \n",
    "  if os.path.isdir(percorso_classe):\n",
    "    for nome_file in os.listdir(percorso_classe):\n",
    "      if nome_file.lower().endswith(('.jpg', '.jpeg', '.png')):\n",
    "        path_file = os.path.join(percorso_classe, nome_file)\n",
    "\n",
    "        try:\n",
    "          feature = task_1_Color_Moments.resize_img(path_file)\n",
    "          feature_flat= feature.flatten()\n",
    "          file_id = nome_file.split(\"_\")[2].split(\".\")[0]\n",
    "\n",
    "        except Exception as e:\n",
    "          print(f\"Errore su {path_file}: {e}\")\n",
    "\n",
    "        righe.append({\n",
    "                    \"id\": file_id,\n",
    "                    \"nome\": nome_file,\n",
    "                    \"classe\": classe,\n",
    "                    \"feature\": str(feature_flat.tolist()) })\n",
    "        \n",
    "df = p.DataFrame(righe)\n",
    "df.to_csv(\"/workspaces/dbm25/data/color_feature_descriptor.csv\", index=False)\n"
   ]
  }
 ],
 "metadata": {
  "kernelspec": {
   "display_name": "venv",
   "language": "python",
   "name": "python3"
  },
  "language_info": {
   "codemirror_mode": {
    "name": "ipython",
    "version": 3
   },
   "file_extension": ".py",
   "mimetype": "text/x-python",
   "name": "python",
   "nbconvert_exporter": "python",
   "pygments_lexer": "ipython3",
   "version": "3.11.2"
  }
 },
 "nbformat": 4,
 "nbformat_minor": 5
}
