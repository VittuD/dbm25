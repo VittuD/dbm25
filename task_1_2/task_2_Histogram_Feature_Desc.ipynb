{
 "cells": [
  {
   "cell_type": "code",
   "execution_count": 1,
   "id": "68386bd3",
   "metadata": {},
   "outputs": [],
   "source": [
    "import numpy as np\n",
    "import pandas as pd\n",
    "import os\n",
    "import import_ipynb\n",
    "import task_1_Histograms\n",
    "\n"
   ]
  },
  {
   "cell_type": "code",
   "execution_count": 3,
   "id": "a263a336",
   "metadata": {},
   "outputs": [],
   "source": [
    "data_path = \"/workspaces/dbm25/data/Part1/Part1\"\n",
    "# get image classes\n",
    "classes = [f for f in os.listdir(data_path) if not f.startswith(\".\")]\n",
    "data = []\n",
    "\n",
    "\n",
    "for class_name in classes:\n",
    "   for file in os.listdir(os.path.join(data_path, class_name)):\n",
    "      # get Histogram feature value\n",
    "      hog_vec = task_1_Histograms.Histogramm_HOG(os.path.join(data_path, class_name, file))\n",
    "      hog_vec_flat = hog_vec.flatten()\n",
    "      file_id = file.split(\"_\")[2].split(\".\")[0]\n",
    "      new_row = [file_id, file, class_name, str(hog_vec_flat.tolist())] \n",
    "\n",
    "      # new dataframe row\n",
    "      data.append(new_row)\n",
    "\n",
    "dataframe = pd.DataFrame(data, columns=[\"id\", \"name\", \"class\", \"feature\"])\n",
    "\n",
    "dataframe.to_csv(\"../data/histograms_feature_descriptor.csv\", index=False)"
   ]
  }
 ],
 "metadata": {
  "kernelspec": {
   "display_name": "venv",
   "language": "python",
   "name": "python3"
  },
  "language_info": {
   "codemirror_mode": {
    "name": "ipython",
    "version": 3
   },
   "file_extension": ".py",
   "mimetype": "text/x-python",
   "name": "python",
   "nbconvert_exporter": "python",
   "pygments_lexer": "ipython3",
   "version": "3.11.2"
  }
 },
 "nbformat": 4,
 "nbformat_minor": 5
}
