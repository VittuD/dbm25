{
 "cells": [
  {
   "cell_type": "code",
   "execution_count": null,
   "id": "40f302d4",
   "metadata": {},
   "outputs": [],
   "source": [
    "import torch\n",
    "import os\n",
    "import cv2\n",
    "import grayscale_moments\n",
    "import resnet\n",
    "import hog\n",
    "import extract_features"
   ]
  },
  {
   "cell_type": "code",
   "execution_count": null,
   "id": "e55c1aea",
   "metadata": {},
   "outputs": [],
   "source": [
    "data1_path = '../data/Part1/Part1'\n",
    "data2_path = '../data/Part2/Part2'"
   ]
  },
  {
   "cell_type": "code",
   "execution_count": null,
   "id": "078e0585",
   "metadata": {},
   "outputs": [],
   "source": [
    "model = torch.hub.load('pytorch/vision:v0.10.0', 'resnet50', pretrained=True)\n",
    "model.eval()"
   ]
  },
  {
   "cell_type": "code",
   "execution_count": null,
   "id": "a6a55f5b",
   "metadata": {},
   "outputs": [],
   "source": [
    "extracted_features = []\n",
    "\n",
    "\n",
    "# For each image in data1_path extract the features\n",
    "for root, dirs, files in os.walk(data2_path):\n",
    "    for image in files:\n",
    "        if not image.endswith('.jpg'):\n",
    "            continue\n",
    "        # Class can be glioma, menin, tumor. Get the class from the filename\n",
    "        class_name = image.split('_')[0]+'_' + image.split('_')[1]\n",
    "        image_path = os.path.join(f'{class_name}/', image)\n",
    "        # Get the full path to the image\n",
    "        image_path = os.path.abspath(os.path.join(data2_path, image_path))\n",
    "        print(f'Image Path {image_path}')\n",
    "        features_dict = extract_features.extract_features(image_path, model)\n",
    "        \n",
    "        # Append the features to the list\n",
    "        extracted_features.append(features_dict)\n"
   ]
  },
  {
   "cell_type": "code",
   "execution_count": null,
   "id": "2ffe2211",
   "metadata": {},
   "outputs": [],
   "source": [
    "# Save the extracted features into a pt file\n",
    "torch.save(extracted_features, '../data/extracted_features_part_2.pt')"
   ]
  },
  {
   "cell_type": "code",
   "execution_count": 8,
   "id": "8e1dcbe5",
   "metadata": {},
   "outputs": [],
   "source": [
    "# Load the extracted features from the pt file\n",
    "extracted_features_loaded = torch.load('../data/extracted_features.pt')"
   ]
  },
  {
   "cell_type": "code",
   "execution_count": 9,
   "id": "4a9d61aa",
   "metadata": {},
   "outputs": [
    {
     "name": "stdout",
     "output_type": "stream",
     "text": [
      "Extracted features structure: <class 'list'>\n",
      "Number of extracted features: 3006\n",
      "Extracted features keys: dict_keys(['file_path', 'class', 'cm', 'hog', 'avgpool', 'layer3', 'fc'])\n"
     ]
    }
   ],
   "source": [
    "# Print extracted features structure\n",
    "print(f'Extracted features structure: {type(extracted_features_loaded)}')\n",
    "print(f'Number of extracted features: {len(extracted_features_loaded)}')\n",
    "print(f'Extracted features keys: {extracted_features_loaded[0].keys()}')"
   ]
  },
  {
   "cell_type": "code",
   "execution_count": null,
   "id": "13f491f6",
   "metadata": {},
   "outputs": [],
   "source": [
    "part2_test_features = extract_features.extract_features(f'{data2_path}/brain_glioma/brain_glioma_1962.jpg', model)\n",
    "print(part2_test_features)\n",
    "avgpool_test = part2_test_features['layer3']"
   ]
  },
  {
   "cell_type": "code",
   "execution_count": null,
   "id": "17f584e1",
   "metadata": {},
   "outputs": [],
   "source": [
    "first_elem = extracted_features[0]\n",
    "# Print the shape of each key in the dictionary\n",
    "for key in first_elem.keys():\n",
    "    # Check if it's a tensor\n",
    "    if isinstance(first_elem[key], torch.Tensor):\n",
    "        print(f'{key}: {first_elem[key].shape}')"
   ]
  },
  {
   "cell_type": "code",
   "execution_count": null,
   "id": "26a5ad8d",
   "metadata": {},
   "outputs": [],
   "source": [
    "first_elem_loaded = extracted_features_loaded[0]\n",
    "# Print the shape of each key in the dictionary\n",
    "for key in first_elem_loaded.keys():\n",
    "    # Check if it's a tensor\n",
    "    if isinstance(first_elem_loaded[key], torch.Tensor):\n",
    "        print(f'{key}: {first_elem_loaded[key].shape}')"
   ]
  }
 ],
 "metadata": {
  "kernelspec": {
   "display_name": "venv",
   "language": "python",
   "name": "python3"
  },
  "language_info": {
   "codemirror_mode": {
    "name": "ipython",
    "version": 3
   },
   "file_extension": ".py",
   "mimetype": "text/x-python",
   "name": "python",
   "nbconvert_exporter": "python",
   "pygments_lexer": "ipython3",
   "version": "3.11.2"
  }
 },
 "nbformat": 4,
 "nbformat_minor": 5
}
