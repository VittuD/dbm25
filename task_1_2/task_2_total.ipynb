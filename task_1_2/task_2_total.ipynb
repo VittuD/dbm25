{
 "cells": [
  {
   "cell_type": "code",
   "execution_count": null,
   "id": "40f302d4",
   "metadata": {},
   "outputs": [],
   "source": [
    "import torch\n",
    "import os\n",
    "import cv2\n",
    "import grayscale_moments\n",
    "import resnet\n",
    "import hog\n",
    "import extract_features"
   ]
  },
  {
   "cell_type": "code",
   "execution_count": null,
   "id": "e55c1aea",
   "metadata": {},
   "outputs": [],
   "source": [
    "data1_path = '../data/Part1/Part1'\n",
    "data2_path = '../data/Part2/Part2'\n",
    "\n",
    "model = torch.hub.load('pytorch/vision:v0.10.0', 'resnet50', pretrained=True)\n",
    "model.eval()"
   ]
  },
  {
   "cell_type": "code",
   "execution_count": null,
   "id": "72506612",
   "metadata": {},
   "outputs": [],
   "source": [
    "# Create a dictionary to store the results\n",
    "extracted_features = {\n",
    "    'file_path': [],\n",
    "    'class': [],\n",
    "    'cm': [],\n",
    "    'hog': [],\n",
    "    'avgpool': [],\n",
    "    'layer3': [],\n",
    "    'fc': [],\n",
    "}"
   ]
  },
  {
   "cell_type": "code",
   "execution_count": null,
   "id": "09c4418d",
   "metadata": {},
   "outputs": [],
   "source": [
    "extracted_features = []\n",
    "# For each image in data1_path extract the features\n",
    "for root, dirs, files in os.walk(data1_path):\n",
    "    for image in files:\n",
    "        print(f'Path: {image}')\n",
    "        features_dict = extract_features.extract_features(image, model)\n",
    "        # Append the features to the list\n",
    "        extracted_features.append(features_dict)\n"
   ]
  },
  {
   "cell_type": "code",
   "execution_count": null,
   "id": "a6a55f5b",
   "metadata": {},
   "outputs": [],
   "source": [
    "extracted_features = []\n",
    "# For each image in data1_path extract the features\n",
    "for root, dirs, files in os.walk(data1_path):\n",
    "    for image in files:\n",
    "        if not image.endswith('.jpg'):\n",
    "            continue\n",
    "\n",
    "        # Class can be glioma, menin, tumor. Get the class from the filename\n",
    "        class_name = image.split('_')[0]+'_' + image.split('_')[1]\n",
    "        image_path = os.path.join(f'{class_name}/', image)\n",
    "        # Get the full path to the image\n",
    "        image_path = os.path.abspath(os.path.join(data1_path, image_path))\n",
    "        print(f'Image Path {image_path}')\n",
    "        features_dict = extract_features.extract_features(image_path, model)\n",
    "        \n",
    "        # Append the features to the list\n",
    "        extracted_features.append(features_dict)\n"
   ]
  },
  {
   "cell_type": "code",
   "execution_count": null,
   "id": "2ffe2211",
   "metadata": {},
   "outputs": [],
   "source": [
    "# Save the extracted features into a pt file\n",
    "torch.save(extracted_features, '../data/extracted_features_test.pt')"
   ]
  },
  {
   "cell_type": "code",
   "execution_count": null,
   "id": "8e1dcbe5",
   "metadata": {},
   "outputs": [],
   "source": [
    "# Load the extracted features from the pt file\n",
    "extracted_features_test = torch.load('../data/extracted_features_test.pt')\n",
    "# Print the extracted features\n",
    "print(extracted_features_test)"
   ]
  },
  {
   "cell_type": "code",
   "execution_count": null,
   "id": "5b3b87fd",
   "metadata": {},
   "outputs": [],
   "source": [
    "# Load the extracted features from the pt file\n",
    "extracted_features_original = torch.load('../data/extracted_features.pt')\n",
    "# Print the extracted features\n",
    "print(extracted_features_original)"
   ]
  },
  {
   "cell_type": "code",
   "execution_count": null,
   "id": "c7860bd3",
   "metadata": {},
   "outputs": [],
   "source": [
    "for i in range(len(extracted_features_test)):\n",
    "    avgpool_test = extracted_features_test[i]['fc']\n",
    "    avgpool_original = extracted_features_original[i]['fc']\n",
    "    if not torch.allclose(avgpool_test, avgpool_original, atol=1e-10):\n",
    "        print(f'Avgpool feature mismatch at index {i}')\n",
    "        print(f'Test: {avgpool_test}')\n",
    "        print(f'Original: {avgpool_original}')"
   ]
  },
  {
   "cell_type": "code",
   "execution_count": null,
   "id": "13f491f6",
   "metadata": {},
   "outputs": [],
   "source": [
    "part2_test_features = extract_features.extract_features(f'{data2_path}/brain_glioma/brain_glioma_1962.jpg', model)\n",
    "avgpool_test = part2_test_features['layer3']"
   ]
  },
  {
   "cell_type": "code",
   "execution_count": null,
   "id": "f5865ac1",
   "metadata": {},
   "outputs": [],
   "source": [
    "# Extract the top 10 most similar images from extracted_features_original (for the feature avgpool)\n",
    "similar_images = []\n",
    "for i in range(len(extracted_features_original)):\n",
    "    avgpool = extracted_features_original[i]['layer3']\n",
    "    # Calculate the cosine similarity between the two features\n",
    "    similarity = torch.nn.functional.cosine_similarity(avgpool_test, avgpool, dim=0)\n",
    "    # Append the similarity to the list\n",
    "    similar_images.append(similarity.item())\n",
    "# Sort the list of similarities\n",
    "similar_images = sorted(similar_images, reverse=True)\n",
    "print(similar_images)"
   ]
  }
 ],
 "metadata": {
  "kernelspec": {
   "display_name": "venv",
   "language": "python",
   "name": "python3"
  },
  "language_info": {
   "codemirror_mode": {
    "name": "ipython",
    "version": 3
   },
   "file_extension": ".py",
   "mimetype": "text/x-python",
   "name": "python",
   "nbconvert_exporter": "python",
   "pygments_lexer": "ipython3",
   "version": "3.11.2"
  }
 },
 "nbformat": 4,
 "nbformat_minor": 5
}
