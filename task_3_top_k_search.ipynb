{
 "cells": [
  {
   "cell_type": "code",
   "execution_count": null,
   "id": "6533ae34",
   "metadata": {},
   "outputs": [],
   "source": [
    "import import_ipynb\n",
    "import task_1_Color_Moments \n",
    "import pandas as p \n",
    "import os"
   ]
  }
 ],
 "metadata": {
  "language_info": {
   "name": "python"
  }
 },
 "nbformat": 4,
 "nbformat_minor": 5
}
