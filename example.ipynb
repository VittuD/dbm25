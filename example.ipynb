{
 "cells": [
  {
   "cell_type": "code",
   "execution_count": null,
   "id": "7f822e7a-2d71-452a-89fe-b181bbdf2fa8",
   "metadata": {},
   "outputs": [],
   "source": [
    "import torch\n",
    "import cv2"
   ]
  },
  {
   "cell_type": "code",
   "execution_count": null,
   "id": "44965b33",
   "metadata": {},
   "outputs": [],
   "source": [
    "data1_path = 'data/Part1/Part1'\n",
    "data2_path = 'data/Part2/Part2'"
   ]
  },
  {
   "cell_type": "code",
   "execution_count": null,
   "id": "dbb1ec28",
   "metadata": {},
   "outputs": [],
   "source": [
    "# Download the pretrained ResNet-50 model from torchvision\n",
    "# and load it into the model.\n",
    "model = torch.hub.load('pytorch/vision:v0.10.0', 'resnet50', pretrained=True)\n"
   ]
  },
  {
   "cell_type": "code",
   "execution_count": null,
   "id": "aee749c3",
   "metadata": {},
   "outputs": [],
   "source": [
    "# Function to preprocess the image\n",
    "def resnet_preprocessor(image):\n",
    "    # Resize the image to 224x224\n",
    "    image = cv2.resize(image, (224, 224))\n",
    "    # Convert the image to a tensor\n",
    "    image = torch.tensor(image).permute(2, 0, 1).float()\n",
    "    # Normalize the image\n",
    "    image = (image - 127.5) / 127.5\n",
    "    # Add a batch dimension\n",
    "    image = image.unsqueeze(0)\n",
    "    return image"
   ]
  },
  {
   "cell_type": "code",
   "execution_count": null,
   "id": "20c411e1",
   "metadata": {},
   "outputs": [],
   "source": [
    "# Open image using OpenCV from data/Part1/Part1/brain_glioma/brain_glioma_0001.jpg\n",
    "image = cv2.imread(f'{data1_path}/brain_glioma/brain_glioma_0001.jpg')\n",
    "# Pass the image through the model and print the classification\n",
    "image = resnet_preprocessor(image)\n",
    "# Pass the image through the model\n",
    "with torch.no_grad():  # Disable gradient calculation\n",
    "    model.eval()  # Set the model to evaluation mode\n",
    "    output = model(image)  # Forward pass\n",
    "# Get the predicted class\n",
    "_, predicted = torch.max(output, 1)\n",
    "# Print the predicted class\n",
    "print(f'Predicted class: {predicted.item()}')"
   ]
  }
 ],
 "metadata": {
  "kernelspec": {
   "display_name": "venv",
   "language": "python",
   "name": "python3"
  },
  "language_info": {
   "codemirror_mode": {
    "name": "ipython",
    "version": 3
   },
   "file_extension": ".py",
   "mimetype": "text/x-python",
   "name": "python",
   "nbconvert_exporter": "python",
   "pygments_lexer": "ipython3",
   "version": "3.11.2"
  }
 },
 "nbformat": 4,
 "nbformat_minor": 5
}
