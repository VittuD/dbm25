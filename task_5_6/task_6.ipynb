{
 "cells": [
  {
   "cell_type": "code",
   "execution_count": 68,
   "id": "5ae3e6f3",
   "metadata": {},
   "outputs": [],
   "source": [
    "import matplotlib.pyplot as plt\n",
    "import numpy as np\n",
    "import pandas as pd\n",
    "import torch\n",
    "import matplotlib\n",
    "import import_ipynb"
   ]
  },
  {
   "cell_type": "code",
   "execution_count": 69,
   "id": "ff54c81e",
   "metadata": {},
   "outputs": [],
   "source": [
    "\n",
    "def svd_decomposition(feature_space, feature):\n",
    "   a = []\n",
    "   for element in feature_space:\n",
    "      a.append(element[feature])\n",
    "\n",
    "   a_array = np.array(a)\n",
    "\n",
    "   U, S, Vh = np.linalg.svd(a_array, full_matrices=False, compute_uv=True, hermitian=False)\n",
    "\n",
    "   return U, S, Vh\n",
    "\n",
    "\n",
    "def get_top_k_latent_features(U, k):\n",
    "   return U[:, :k]\n"
   ]
  },
  {
   "cell_type": "code",
   "execution_count": 70,
   "id": "f3e58478",
   "metadata": {},
   "outputs": [],
   "source": [
    "def svd_decomposition_per_label(feature_space, feature, label):\n",
    "   a = []\n",
    "   for element in feature_space:\n",
    "      if element['class'] == label:\n",
    "         a.append(element[feature])\n",
    "         \n",
    "   a_array = np.array(a)\n",
    "\n",
    "   U, S, Vh = np.linalg.svd(a_array, full_matrices=False, compute_uv=True, hermitian=False)\n",
    "\n",
    "   return U, S, Vh\n",
    "   \n"
   ]
  },
  {
   "cell_type": "code",
   "execution_count": 71,
   "id": "be19823c",
   "metadata": {},
   "outputs": [
    {
     "name": "stdout",
     "output_type": "stream",
     "text": [
      "Decomposed SVD for label 'brain_menin' and feature 'hog':\n",
      "U.shape: (1002, 900)\n",
      "S.shape: (900,)\n",
      "Vh.shape: (900, 900)\n",
      "Matrix rank (inherent dimensionality): 760\n"
     ]
    }
   ],
   "source": [
    "# U, S, Vh = svd_decomposition(feature_space, feature)\n",
    "# print(f\"U.shape: {U.shape}, S.shape: {S.shape}, Vh.shape: {Vh.shape}\")\n",
    "\n",
    "#latent_feature_space = torch.load(\"/workspaces/dbm25/data/svd_latent_features.pt\")\n",
    "\n",
    "feature_space = torch.load(\"/workspaces/dbm25/data/extracted_features.pt\")\n",
    "label = \"brain_menin\"\n",
    "feature = \"hog\"\n",
    "\n",
    "U, S, Vh = svd_decomposition_per_label(feature_space, feature, label)\n",
    "print(f\"Decomposed SVD for label '{label}' and feature '{feature}':\")\n",
    "\n",
    "print(f\"U.shape: {U.shape}\")\n",
    "print(f\"S.shape: {S.shape}\")\n",
    "print(f\"Vh.shape: {Vh.shape}\")\n",
    "\n",
    "S_Matrix = np.diag(S)\n",
    "# Calculate the rank of the matrix\n",
    "matrix_rank = np.linalg.matrix_rank(S_Matrix)\n",
    "\n",
    "print(f\"Matrix rank (inherent dimensionality): {matrix_rank}\") # rank is always equal to K\n",
    "\n",
    "\n"
   ]
  }
 ],
 "metadata": {
  "kernelspec": {
   "display_name": "venv",
   "language": "python",
   "name": "python3"
  },
  "language_info": {
   "codemirror_mode": {
    "name": "ipython",
    "version": 3
   },
   "file_extension": ".py",
   "mimetype": "text/x-python",
   "name": "python",
   "nbconvert_exporter": "python",
   "pygments_lexer": "ipython3",
   "version": "3.11.2"
  }
 },
 "nbformat": 4,
 "nbformat_minor": 5
}
