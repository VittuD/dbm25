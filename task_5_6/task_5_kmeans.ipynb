{
 "cells": [
  {
   "cell_type": "code",
   "execution_count": 11,
   "id": "b91dce22",
   "metadata": {},
   "outputs": [],
   "source": [
    "import matplotlib.pyplot as plt\n",
    "import numpy as np\n",
    "import torch\n",
    "from sklearn.cluster import KMeans\n",
    "\n",
    "feature_space = torch.load(\"/workspaces/dbm25/data/extracted_features.pt\")\n",
    "\n",
    "feature = \"layer3\"\n",
    "\n",
    "a = []\n",
    "for element in feature_space:\n",
    "   a.append(element[feature])\n",
    "\n",
    "a_array = np.array(a)\n"
   ]
  },
  {
   "cell_type": "code",
   "execution_count": 12,
   "id": "f1ba149f",
   "metadata": {},
   "outputs": [
    {
     "name": "stdout",
     "output_type": "stream",
     "text": [
      "(3, 1024)\n",
      "(3006,)\n"
     ]
    }
   ],
   "source": [
    "k = 3\n",
    "km = KMeans(n_clusters=k, random_state=0)\n",
    "km.fit(a_array)\n",
    "\n",
    "# km.cluster_centers_  → shape (k, 1000)\n",
    "# km.labels_           → array of length 3006\n",
    "centroids = km.cluster_centers_\n",
    "labels = km.labels_\n",
    "\n",
    "print(centroids.shape)\n",
    "print(labels.shape)"
   ]
  },
  {
   "cell_type": "code",
   "execution_count": 13,
   "id": "0d283335",
   "metadata": {},
   "outputs": [
    {
     "name": "stdout",
     "output_type": "stream",
     "text": [
      "(3006, 3, 2)\n",
      "[[0.9760344  1.        ]\n",
      " [0.96796572 2.        ]\n",
      " [0.93644494 0.        ]]\n"
     ]
    }
   ],
   "source": [
    "point_similarities = []\n",
    "for idx, point in enumerate(a_array):\n",
    "    # compute the distance of the feature from each centroid with cosine similarity\n",
    "    similarities = []\n",
    "    for idy, centroid in enumerate(centroids):\n",
    "        sim = np.dot(point, centroid) / (np.linalg.norm(point) * np.linalg.norm(centroid))  # cosine similarity\n",
    "        similarities.append(np.array([sim, idy]))\n",
    "    similarities = np.array(similarities)\n",
    "    sorted_similarities = similarities[similarities[:, 0].argsort()[::-1]]\n",
    "    point_similarities.append(sorted_similarities)\n",
    "    \n",
    "point_similarities = np.array(point_similarities)\n",
    "# Has shape (n_samples, similarity, centroid_id)\n",
    "print(point_similarities.shape)\n",
    "print(point_similarities[0])"
   ]
  },
  {
   "cell_type": "code",
   "execution_count": 14,
   "id": "a261bf8f",
   "metadata": {},
   "outputs": [
    {
     "name": "stdout",
     "output_type": "stream",
     "text": [
      "(3006, 1, 2)\n",
      "[[0.9760344 1.       ]]\n"
     ]
    }
   ],
   "source": [
    "# Select m<k most important similarities and keep only that\n",
    "# So for m = 5 and k = 10 we would go from (n_samples, 10, 2) to (n_samples, 5, 2)\n",
    "m = 1\n",
    "test_subject = 0\n",
    "if m <= k:\n",
    "    reduced_point_similarities = point_similarities[:, :m, :]\n",
    "    print(reduced_point_similarities.shape)\n",
    "    print(reduced_point_similarities[test_subject])\n",
    "else:\n",
    "    print(\"m must be smaller or equal to k\")"
   ]
  },
  {
   "cell_type": "code",
   "execution_count": 15,
   "id": "c689d29a",
   "metadata": {},
   "outputs": [
    {
     "name": "stdout",
     "output_type": "stream",
     "text": [
      "[1]\n"
     ]
    }
   ],
   "source": [
    "# Predict point test_subject with kmeans and get it's cluster\n",
    "# This should return the same cluster as the first element of point_distances\n",
    "predicted_label = km.predict(a_array[test_subject].reshape(1, -1))\n",
    "print(predicted_label)"
   ]
  },
  {
   "cell_type": "code",
   "execution_count": 16,
   "id": "2496f062",
   "metadata": {},
   "outputs": [],
   "source": [
    "# TODO reconstruct the dict with image_id, class, reduced_similarities"
   ]
  },
  {
   "cell_type": "code",
   "execution_count": 17,
   "id": "b09e5058",
   "metadata": {},
   "outputs": [
    {
     "name": "stdout",
     "output_type": "stream",
     "text": [
      "dict_keys(['file_path', 'class', 'cm', 'hog', 'avgpool', 'layer3', 'fc'])\n"
     ]
    }
   ],
   "source": [
    "print(feature_space[0].keys())"
   ]
  },
  {
   "cell_type": "code",
   "execution_count": 18,
   "id": "dbcc99cb",
   "metadata": {},
   "outputs": [],
   "source": [
    "# For each element in feature_space drop everything but the image_id, class and add the reduced similarities\n",
    "for idx, element in enumerate(feature_space):\n",
    "    # Get the image_id and class\n",
    "    file_path = element[\"file_path\"]\n",
    "    class_id = element[\"class\"]\n",
    "    \n",
    "    # Get the reduced similarities\n",
    "    reduced_similarities = reduced_point_similarities[idx]\n",
    "    \n",
    "    # Create a new dict with the image_id, class and reduced similarities\n",
    "    new_element = {\n",
    "        \"file_path\": file_path,\n",
    "        \"class\": class_id,\n",
    "        \"similarities\": reduced_similarities\n",
    "    }\n",
    "    \n",
    "    # Replace the element in the feature_space with the new element\n",
    "    feature_space[idx] = new_element\n",
    "\n",
    "# Save it to a pt file\n",
    "torch.save(feature_space, f\"/workspaces/dbm25/data/extracted_features_reduced_{feature}.pt\")"
   ]
  },
  {
   "cell_type": "code",
   "execution_count": 22,
   "id": "7c5fefb4",
   "metadata": {},
   "outputs": [
    {
     "name": "stdout",
     "output_type": "stream",
     "text": [
      "dict_keys(['file_path', 'class', 'similarities'])\n",
      "[[0.9760344 1.       ]]\n"
     ]
    }
   ],
   "source": [
    "# load the file and check if it worked\n",
    "loaded_feature_space = torch.load(f\"/workspaces/dbm25/data/extracted_features_reduced_{feature}.pt\", weights_only=False)\n",
    "print(loaded_feature_space[0].keys())\n",
    "print(loaded_feature_space[0][\"similarities\"])"
   ]
  }
 ],
 "metadata": {
  "kernelspec": {
   "display_name": "venv",
   "language": "python",
   "name": "python3"
  },
  "language_info": {
   "codemirror_mode": {
    "name": "ipython",
    "version": 3
   },
   "file_extension": ".py",
   "mimetype": "text/x-python",
   "name": "python",
   "nbconvert_exporter": "python",
   "pygments_lexer": "ipython3",
   "version": "3.11.2"
  }
 },
 "nbformat": 4,
 "nbformat_minor": 5
}
